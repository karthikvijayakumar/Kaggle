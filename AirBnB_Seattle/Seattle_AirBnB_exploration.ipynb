{
 "cells": [
  {
   "cell_type": "markdown",
   "metadata": {},
   "source": [
    "# Importing data"
   ]
  },
  {
   "cell_type": "code",
   "execution_count": 1,
   "metadata": {},
   "outputs": [],
   "source": [
    "import pandas as pd\n",
    "import numpy as np\n",
    "import matplotlib.pyplot as plt\n",
    "import seaborn as sns\n",
    "import calendar\n",
    "import warnings\n",
    "warnings.filterwarnings(\"ignore\")\n",
    "\n",
    "%matplotlib inline"
   ]
  },
  {
   "cell_type": "markdown",
   "metadata": {},
   "source": [
    "# Seattle data"
   ]
  },
  {
   "cell_type": "code",
   "execution_count": 2,
   "metadata": {},
   "outputs": [],
   "source": [
    "seattle_calendar = pd.read_csv('seattle_data_airbnb/calendar.csv')\n",
    "seattle_listings = pd.read_csv('seattle_data_airbnb/listings.csv')\n",
    "seattle_reviews = pd.read_csv('seattle_data_airbnb/reviews.csv')"
   ]
  },
  {
   "cell_type": "code",
   "execution_count": 3,
   "metadata": {},
   "outputs": [
    {
     "data": {
      "text/html": [
       "<div>\n",
       "<style scoped>\n",
       "    .dataframe tbody tr th:only-of-type {\n",
       "        vertical-align: middle;\n",
       "    }\n",
       "\n",
       "    .dataframe tbody tr th {\n",
       "        vertical-align: top;\n",
       "    }\n",
       "\n",
       "    .dataframe thead th {\n",
       "        text-align: right;\n",
       "    }\n",
       "</style>\n",
       "<table border=\"1\" class=\"dataframe\">\n",
       "  <thead>\n",
       "    <tr style=\"text-align: right;\">\n",
       "      <th></th>\n",
       "      <th>listing_id</th>\n",
       "      <th>date</th>\n",
       "      <th>available</th>\n",
       "      <th>price</th>\n",
       "    </tr>\n",
       "  </thead>\n",
       "  <tbody>\n",
       "    <tr>\n",
       "      <th>0</th>\n",
       "      <td>241032</td>\n",
       "      <td>2016-01-04</td>\n",
       "      <td>t</td>\n",
       "      <td>$85.00</td>\n",
       "    </tr>\n",
       "    <tr>\n",
       "      <th>1</th>\n",
       "      <td>241032</td>\n",
       "      <td>2016-01-05</td>\n",
       "      <td>t</td>\n",
       "      <td>$85.00</td>\n",
       "    </tr>\n",
       "    <tr>\n",
       "      <th>2</th>\n",
       "      <td>241032</td>\n",
       "      <td>2016-01-06</td>\n",
       "      <td>f</td>\n",
       "      <td>NaN</td>\n",
       "    </tr>\n",
       "    <tr>\n",
       "      <th>3</th>\n",
       "      <td>241032</td>\n",
       "      <td>2016-01-07</td>\n",
       "      <td>f</td>\n",
       "      <td>NaN</td>\n",
       "    </tr>\n",
       "    <tr>\n",
       "      <th>4</th>\n",
       "      <td>241032</td>\n",
       "      <td>2016-01-08</td>\n",
       "      <td>f</td>\n",
       "      <td>NaN</td>\n",
       "    </tr>\n",
       "  </tbody>\n",
       "</table>\n",
       "</div>"
      ],
      "text/plain": [
       "   listing_id        date available   price\n",
       "0      241032  2016-01-04         t  $85.00\n",
       "1      241032  2016-01-05         t  $85.00\n",
       "2      241032  2016-01-06         f     NaN\n",
       "3      241032  2016-01-07         f     NaN\n",
       "4      241032  2016-01-08         f     NaN"
      ]
     },
     "execution_count": 3,
     "metadata": {},
     "output_type": "execute_result"
    }
   ],
   "source": [
    "seattle_calendar.head()"
   ]
  },
  {
   "cell_type": "code",
   "execution_count": 4,
   "metadata": {},
   "outputs": [
    {
     "data": {
      "text/html": [
       "<div>\n",
       "<style scoped>\n",
       "    .dataframe tbody tr th:only-of-type {\n",
       "        vertical-align: middle;\n",
       "    }\n",
       "\n",
       "    .dataframe tbody tr th {\n",
       "        vertical-align: top;\n",
       "    }\n",
       "\n",
       "    .dataframe thead th {\n",
       "        text-align: right;\n",
       "    }\n",
       "</style>\n",
       "<table border=\"1\" class=\"dataframe\">\n",
       "  <thead>\n",
       "    <tr style=\"text-align: right;\">\n",
       "      <th></th>\n",
       "      <th>id</th>\n",
       "      <th>listing_url</th>\n",
       "      <th>scrape_id</th>\n",
       "      <th>last_scraped</th>\n",
       "      <th>name</th>\n",
       "      <th>summary</th>\n",
       "      <th>space</th>\n",
       "      <th>description</th>\n",
       "      <th>experiences_offered</th>\n",
       "      <th>neighborhood_overview</th>\n",
       "      <th>...</th>\n",
       "      <th>review_scores_value</th>\n",
       "      <th>requires_license</th>\n",
       "      <th>license</th>\n",
       "      <th>jurisdiction_names</th>\n",
       "      <th>instant_bookable</th>\n",
       "      <th>cancellation_policy</th>\n",
       "      <th>require_guest_profile_picture</th>\n",
       "      <th>require_guest_phone_verification</th>\n",
       "      <th>calculated_host_listings_count</th>\n",
       "      <th>reviews_per_month</th>\n",
       "    </tr>\n",
       "  </thead>\n",
       "  <tbody>\n",
       "    <tr>\n",
       "      <th>0</th>\n",
       "      <td>241032</td>\n",
       "      <td>https://www.airbnb.com/rooms/241032</td>\n",
       "      <td>20160104002432</td>\n",
       "      <td>2016-01-04</td>\n",
       "      <td>Stylish Queen Anne Apartment</td>\n",
       "      <td>NaN</td>\n",
       "      <td>Make your self at home in this charming one-be...</td>\n",
       "      <td>Make your self at home in this charming one-be...</td>\n",
       "      <td>none</td>\n",
       "      <td>NaN</td>\n",
       "      <td>...</td>\n",
       "      <td>10.0</td>\n",
       "      <td>f</td>\n",
       "      <td>NaN</td>\n",
       "      <td>WASHINGTON</td>\n",
       "      <td>f</td>\n",
       "      <td>moderate</td>\n",
       "      <td>f</td>\n",
       "      <td>f</td>\n",
       "      <td>2</td>\n",
       "      <td>4.07</td>\n",
       "    </tr>\n",
       "    <tr>\n",
       "      <th>1</th>\n",
       "      <td>953595</td>\n",
       "      <td>https://www.airbnb.com/rooms/953595</td>\n",
       "      <td>20160104002432</td>\n",
       "      <td>2016-01-04</td>\n",
       "      <td>Bright &amp; Airy Queen Anne Apartment</td>\n",
       "      <td>Chemically sensitive? We've removed the irrita...</td>\n",
       "      <td>Beautiful, hypoallergenic apartment in an extr...</td>\n",
       "      <td>Chemically sensitive? We've removed the irrita...</td>\n",
       "      <td>none</td>\n",
       "      <td>Queen Anne is a wonderful, truly functional vi...</td>\n",
       "      <td>...</td>\n",
       "      <td>10.0</td>\n",
       "      <td>f</td>\n",
       "      <td>NaN</td>\n",
       "      <td>WASHINGTON</td>\n",
       "      <td>f</td>\n",
       "      <td>strict</td>\n",
       "      <td>t</td>\n",
       "      <td>t</td>\n",
       "      <td>6</td>\n",
       "      <td>1.48</td>\n",
       "    </tr>\n",
       "    <tr>\n",
       "      <th>2</th>\n",
       "      <td>3308979</td>\n",
       "      <td>https://www.airbnb.com/rooms/3308979</td>\n",
       "      <td>20160104002432</td>\n",
       "      <td>2016-01-04</td>\n",
       "      <td>New Modern House-Amazing water view</td>\n",
       "      <td>New modern house built in 2013.  Spectacular s...</td>\n",
       "      <td>Our house is modern, light and fresh with a wa...</td>\n",
       "      <td>New modern house built in 2013.  Spectacular s...</td>\n",
       "      <td>none</td>\n",
       "      <td>Upper Queen Anne is a charming neighborhood fu...</td>\n",
       "      <td>...</td>\n",
       "      <td>10.0</td>\n",
       "      <td>f</td>\n",
       "      <td>NaN</td>\n",
       "      <td>WASHINGTON</td>\n",
       "      <td>f</td>\n",
       "      <td>strict</td>\n",
       "      <td>f</td>\n",
       "      <td>f</td>\n",
       "      <td>2</td>\n",
       "      <td>1.15</td>\n",
       "    </tr>\n",
       "    <tr>\n",
       "      <th>3</th>\n",
       "      <td>7421966</td>\n",
       "      <td>https://www.airbnb.com/rooms/7421966</td>\n",
       "      <td>20160104002432</td>\n",
       "      <td>2016-01-04</td>\n",
       "      <td>Queen Anne Chateau</td>\n",
       "      <td>A charming apartment that sits atop Queen Anne...</td>\n",
       "      <td>NaN</td>\n",
       "      <td>A charming apartment that sits atop Queen Anne...</td>\n",
       "      <td>none</td>\n",
       "      <td>NaN</td>\n",
       "      <td>...</td>\n",
       "      <td>NaN</td>\n",
       "      <td>f</td>\n",
       "      <td>NaN</td>\n",
       "      <td>WASHINGTON</td>\n",
       "      <td>f</td>\n",
       "      <td>flexible</td>\n",
       "      <td>f</td>\n",
       "      <td>f</td>\n",
       "      <td>1</td>\n",
       "      <td>NaN</td>\n",
       "    </tr>\n",
       "    <tr>\n",
       "      <th>4</th>\n",
       "      <td>278830</td>\n",
       "      <td>https://www.airbnb.com/rooms/278830</td>\n",
       "      <td>20160104002432</td>\n",
       "      <td>2016-01-04</td>\n",
       "      <td>Charming craftsman 3 bdm house</td>\n",
       "      <td>Cozy family craftman house in beautiful neighb...</td>\n",
       "      <td>Cozy family craftman house in beautiful neighb...</td>\n",
       "      <td>Cozy family craftman house in beautiful neighb...</td>\n",
       "      <td>none</td>\n",
       "      <td>We are in the beautiful neighborhood of Queen ...</td>\n",
       "      <td>...</td>\n",
       "      <td>9.0</td>\n",
       "      <td>f</td>\n",
       "      <td>NaN</td>\n",
       "      <td>WASHINGTON</td>\n",
       "      <td>f</td>\n",
       "      <td>strict</td>\n",
       "      <td>f</td>\n",
       "      <td>f</td>\n",
       "      <td>1</td>\n",
       "      <td>0.89</td>\n",
       "    </tr>\n",
       "  </tbody>\n",
       "</table>\n",
       "<p>5 rows × 92 columns</p>\n",
       "</div>"
      ],
      "text/plain": [
       "        id                           listing_url       scrape_id last_scraped  \\\n",
       "0   241032   https://www.airbnb.com/rooms/241032  20160104002432   2016-01-04   \n",
       "1   953595   https://www.airbnb.com/rooms/953595  20160104002432   2016-01-04   \n",
       "2  3308979  https://www.airbnb.com/rooms/3308979  20160104002432   2016-01-04   \n",
       "3  7421966  https://www.airbnb.com/rooms/7421966  20160104002432   2016-01-04   \n",
       "4   278830   https://www.airbnb.com/rooms/278830  20160104002432   2016-01-04   \n",
       "\n",
       "                                  name  \\\n",
       "0         Stylish Queen Anne Apartment   \n",
       "1   Bright & Airy Queen Anne Apartment   \n",
       "2  New Modern House-Amazing water view   \n",
       "3                   Queen Anne Chateau   \n",
       "4       Charming craftsman 3 bdm house   \n",
       "\n",
       "                                             summary  \\\n",
       "0                                                NaN   \n",
       "1  Chemically sensitive? We've removed the irrita...   \n",
       "2  New modern house built in 2013.  Spectacular s...   \n",
       "3  A charming apartment that sits atop Queen Anne...   \n",
       "4  Cozy family craftman house in beautiful neighb...   \n",
       "\n",
       "                                               space  \\\n",
       "0  Make your self at home in this charming one-be...   \n",
       "1  Beautiful, hypoallergenic apartment in an extr...   \n",
       "2  Our house is modern, light and fresh with a wa...   \n",
       "3                                                NaN   \n",
       "4  Cozy family craftman house in beautiful neighb...   \n",
       "\n",
       "                                         description experiences_offered  \\\n",
       "0  Make your self at home in this charming one-be...                none   \n",
       "1  Chemically sensitive? We've removed the irrita...                none   \n",
       "2  New modern house built in 2013.  Spectacular s...                none   \n",
       "3  A charming apartment that sits atop Queen Anne...                none   \n",
       "4  Cozy family craftman house in beautiful neighb...                none   \n",
       "\n",
       "                               neighborhood_overview        ...         \\\n",
       "0                                                NaN        ...          \n",
       "1  Queen Anne is a wonderful, truly functional vi...        ...          \n",
       "2  Upper Queen Anne is a charming neighborhood fu...        ...          \n",
       "3                                                NaN        ...          \n",
       "4  We are in the beautiful neighborhood of Queen ...        ...          \n",
       "\n",
       "  review_scores_value requires_license license jurisdiction_names  \\\n",
       "0                10.0                f     NaN         WASHINGTON   \n",
       "1                10.0                f     NaN         WASHINGTON   \n",
       "2                10.0                f     NaN         WASHINGTON   \n",
       "3                 NaN                f     NaN         WASHINGTON   \n",
       "4                 9.0                f     NaN         WASHINGTON   \n",
       "\n",
       "  instant_bookable cancellation_policy  require_guest_profile_picture  \\\n",
       "0                f            moderate                              f   \n",
       "1                f              strict                              t   \n",
       "2                f              strict                              f   \n",
       "3                f            flexible                              f   \n",
       "4                f              strict                              f   \n",
       "\n",
       "  require_guest_phone_verification calculated_host_listings_count  \\\n",
       "0                                f                              2   \n",
       "1                                t                              6   \n",
       "2                                f                              2   \n",
       "3                                f                              1   \n",
       "4                                f                              1   \n",
       "\n",
       "  reviews_per_month  \n",
       "0              4.07  \n",
       "1              1.48  \n",
       "2              1.15  \n",
       "3               NaN  \n",
       "4              0.89  \n",
       "\n",
       "[5 rows x 92 columns]"
      ]
     },
     "execution_count": 4,
     "metadata": {},
     "output_type": "execute_result"
    }
   ],
   "source": [
    "seattle_listings.head()"
   ]
  },
  {
   "cell_type": "code",
   "execution_count": 5,
   "metadata": {},
   "outputs": [
    {
     "data": {
      "text/html": [
       "<div>\n",
       "<style scoped>\n",
       "    .dataframe tbody tr th:only-of-type {\n",
       "        vertical-align: middle;\n",
       "    }\n",
       "\n",
       "    .dataframe tbody tr th {\n",
       "        vertical-align: top;\n",
       "    }\n",
       "\n",
       "    .dataframe thead th {\n",
       "        text-align: right;\n",
       "    }\n",
       "</style>\n",
       "<table border=\"1\" class=\"dataframe\">\n",
       "  <thead>\n",
       "    <tr style=\"text-align: right;\">\n",
       "      <th></th>\n",
       "      <th>listing_id</th>\n",
       "      <th>id</th>\n",
       "      <th>date</th>\n",
       "      <th>reviewer_id</th>\n",
       "      <th>reviewer_name</th>\n",
       "      <th>comments</th>\n",
       "    </tr>\n",
       "  </thead>\n",
       "  <tbody>\n",
       "    <tr>\n",
       "      <th>0</th>\n",
       "      <td>7202016</td>\n",
       "      <td>38917982</td>\n",
       "      <td>2015-07-19</td>\n",
       "      <td>28943674</td>\n",
       "      <td>Bianca</td>\n",
       "      <td>Cute and cozy place. Perfect location to every...</td>\n",
       "    </tr>\n",
       "    <tr>\n",
       "      <th>1</th>\n",
       "      <td>7202016</td>\n",
       "      <td>39087409</td>\n",
       "      <td>2015-07-20</td>\n",
       "      <td>32440555</td>\n",
       "      <td>Frank</td>\n",
       "      <td>Kelly has a great room in a very central locat...</td>\n",
       "    </tr>\n",
       "    <tr>\n",
       "      <th>2</th>\n",
       "      <td>7202016</td>\n",
       "      <td>39820030</td>\n",
       "      <td>2015-07-26</td>\n",
       "      <td>37722850</td>\n",
       "      <td>Ian</td>\n",
       "      <td>Very spacious apartment, and in a great neighb...</td>\n",
       "    </tr>\n",
       "    <tr>\n",
       "      <th>3</th>\n",
       "      <td>7202016</td>\n",
       "      <td>40813543</td>\n",
       "      <td>2015-08-02</td>\n",
       "      <td>33671805</td>\n",
       "      <td>George</td>\n",
       "      <td>Close to Seattle Center and all it has to offe...</td>\n",
       "    </tr>\n",
       "    <tr>\n",
       "      <th>4</th>\n",
       "      <td>7202016</td>\n",
       "      <td>41986501</td>\n",
       "      <td>2015-08-10</td>\n",
       "      <td>34959538</td>\n",
       "      <td>Ming</td>\n",
       "      <td>Kelly was a great host and very accommodating ...</td>\n",
       "    </tr>\n",
       "  </tbody>\n",
       "</table>\n",
       "</div>"
      ],
      "text/plain": [
       "   listing_id        id        date  reviewer_id reviewer_name  \\\n",
       "0     7202016  38917982  2015-07-19     28943674        Bianca   \n",
       "1     7202016  39087409  2015-07-20     32440555         Frank   \n",
       "2     7202016  39820030  2015-07-26     37722850           Ian   \n",
       "3     7202016  40813543  2015-08-02     33671805        George   \n",
       "4     7202016  41986501  2015-08-10     34959538          Ming   \n",
       "\n",
       "                                            comments  \n",
       "0  Cute and cozy place. Perfect location to every...  \n",
       "1  Kelly has a great room in a very central locat...  \n",
       "2  Very spacious apartment, and in a great neighb...  \n",
       "3  Close to Seattle Center and all it has to offe...  \n",
       "4  Kelly was a great host and very accommodating ...  "
      ]
     },
     "execution_count": 5,
     "metadata": {},
     "output_type": "execute_result"
    }
   ],
   "source": [
    "seattle_reviews.head()"
   ]
  },
  {
   "cell_type": "markdown",
   "metadata": {},
   "source": [
    "Lets take a closer look at the listing dataset"
   ]
  },
  {
   "cell_type": "code",
   "execution_count": 6,
   "metadata": {},
   "outputs": [
    {
     "data": {
      "text/plain": [
       "Index(['id', 'listing_url', 'scrape_id', 'last_scraped', 'name', 'summary',\n",
       "       'space', 'description', 'experiences_offered', 'neighborhood_overview',\n",
       "       'notes', 'transit', 'thumbnail_url', 'medium_url', 'picture_url',\n",
       "       'xl_picture_url', 'host_id', 'host_url', 'host_name', 'host_since',\n",
       "       'host_location', 'host_about', 'host_response_time',\n",
       "       'host_response_rate', 'host_acceptance_rate', 'host_is_superhost',\n",
       "       'host_thumbnail_url', 'host_picture_url', 'host_neighbourhood',\n",
       "       'host_listings_count', 'host_total_listings_count',\n",
       "       'host_verifications', 'host_has_profile_pic', 'host_identity_verified',\n",
       "       'street', 'neighbourhood', 'neighbourhood_cleansed',\n",
       "       'neighbourhood_group_cleansed', 'city', 'state', 'zipcode', 'market',\n",
       "       'smart_location', 'country_code', 'country', 'latitude', 'longitude',\n",
       "       'is_location_exact', 'property_type', 'room_type', 'accommodates',\n",
       "       'bathrooms', 'bedrooms', 'beds', 'bed_type', 'amenities', 'square_feet',\n",
       "       'price', 'weekly_price', 'monthly_price', 'security_deposit',\n",
       "       'cleaning_fee', 'guests_included', 'extra_people', 'minimum_nights',\n",
       "       'maximum_nights', 'calendar_updated', 'has_availability',\n",
       "       'availability_30', 'availability_60', 'availability_90',\n",
       "       'availability_365', 'calendar_last_scraped', 'number_of_reviews',\n",
       "       'first_review', 'last_review', 'review_scores_rating',\n",
       "       'review_scores_accuracy', 'review_scores_cleanliness',\n",
       "       'review_scores_checkin', 'review_scores_communication',\n",
       "       'review_scores_location', 'review_scores_value', 'requires_license',\n",
       "       'license', 'jurisdiction_names', 'instant_bookable',\n",
       "       'cancellation_policy', 'require_guest_profile_picture',\n",
       "       'require_guest_phone_verification', 'calculated_host_listings_count',\n",
       "       'reviews_per_month'],\n",
       "      dtype='object')"
      ]
     },
     "execution_count": 6,
     "metadata": {},
     "output_type": "execute_result"
    }
   ],
   "source": [
    "seattle_listings.columns"
   ]
  },
  {
   "cell_type": "markdown",
   "metadata": {},
   "source": [
    "## High level questions on the data\n",
    "\n",
    "1. How many listings are there?\n",
    "2. For what time frame is the data given\n",
    "3. How many reviews are there?"
   ]
  },
  {
   "cell_type": "code",
   "execution_count": 7,
   "metadata": {},
   "outputs": [
    {
     "name": "stdout",
     "output_type": "stream",
     "text": [
      "Num listings = 3818\n"
     ]
    }
   ],
   "source": [
    "# 1. How many listings are there?\n",
    "\n",
    "print('Num listings = ' + str(seattle_listings.shape[0]))"
   ]
  },
  {
   "cell_type": "code",
   "execution_count": 8,
   "metadata": {},
   "outputs": [
    {
     "name": "stdout",
     "output_type": "stream",
     "text": [
      "Starting date: 2016-01-04\n",
      "Ending date: 2017-01-02\n"
     ]
    }
   ],
   "source": [
    "# 2. Time frame of data\n",
    "# The time frame is held in the date column in the seattle_calendar dataset\n",
    "# This is currently a string column and not a date type column yet\n",
    "# The dataset if ordered linearly in time ( per listing ) and there is a row against each data for each listing\n",
    "# Hence the first and last rows should tell us the time frame\n",
    "\n",
    "print( 'Starting date: ' + seattle_calendar.date[0] )\n",
    "print( 'Ending date: ' + seattle_calendar.date[seattle_calendar.shape[0]-1] )\n",
    "\n",
    "# The data ranges from 4-Jan-2016 to 2-Jan-2017"
   ]
  },
  {
   "cell_type": "markdown",
   "metadata": {},
   "source": [
    "### Custom functions that become useful later on"
   ]
  },
  {
   "cell_type": "code",
   "execution_count": 9,
   "metadata": {},
   "outputs": [],
   "source": [
    "def respect_nulls(x, f):\n",
    "    if pd.isnull(x):\n",
    "        return x\n",
    "    else:\n",
    "        return f(x)"
   ]
  },
  {
   "cell_type": "code",
   "execution_count": 10,
   "metadata": {},
   "outputs": [],
   "source": [
    "remove_pct = lambda x: str.replace(x, '%','')\n",
    "remove_dollar = lambda x: str.replace(x,'$','')\n",
    "remove_comma = lambda x: str.replace(x, ',','')"
   ]
  },
  {
   "cell_type": "code",
   "execution_count": 11,
   "metadata": {},
   "outputs": [],
   "source": [
    "def price_per_unit(price, units):\n",
    "    if pd.isnull(units) or units == 0:\n",
    "        return np.nan\n",
    "    else:\n",
    "        return price/units"
   ]
  },
  {
   "cell_type": "markdown",
   "metadata": {},
   "source": [
    "## Questions on the structure of the data and meaning of the columns\n",
    "\n",
    "The [Inside Airbnb website](http://insideairbnb.com/seattle/#) was very ueful in helping me understand certain fields\n",
    "\n",
    "The reviews and calendar datasets are pretty self explanatory. Lets focus on the listings dataset\n",
    "\n",
    "1. What do the following columns mean\n",
    "    1. host_reponse_rate, host_response_time, host_acceptance_rate, host_is_superhost, host_location\n",
    "    2. host_listings_count and host_total_listings_count\n",
    "    3. host_identity_verified\n",
    "    4. host_verifications\n",
    "    5. neighbourhood, neighbourhood_cleansed and neighbourhood_group_cleansed\n",
    "    6. market\n",
    "    7. guests_included\n",
    "    8. extra_people\n",
    "    9. has_availability, has_availability_30, has_availability_60, has_availability_90, has_availability_365\n",
    "    10. first_review, last_review\n",
    "    11. requires_license, license\n",
    "    12. summary, space, description\n",
    "    13. street -> Is this the street address\n",
    "    14. amenities -> Is this picked from a drop down or is it free form\n",
    "    15. notes\n",
    "    16. transit\n",
    "    17. calendar_updated, calendar_last_scrap\n",
    "    18. smart_location\n",
    "    19. is_location_exact    \n",
    "    20. experiences_offered\n",
    "    21. property_type\n",
    "    22. room_type\n",
    "    23. instant_bookable\n",
    "    24. cancellation_policy\n",
    "    \n",
    "2. Can there be multiple listings by a single host? - Seems natural to expect this, but can we see this in the data"
   ]
  },
  {
   "cell_type": "markdown",
   "metadata": {},
   "source": [
    "## Finding anwers to the above questions"
   ]
  },
  {
   "cell_type": "markdown",
   "metadata": {},
   "source": [
    "### Meanings of and values taken by several columns"
   ]
  },
  {
   "cell_type": "code",
   "execution_count": 12,
   "metadata": {},
   "outputs": [
    {
     "data": {
      "text/plain": [
       "0     96%\n",
       "1     98%\n",
       "2     67%\n",
       "3     NaN\n",
       "4    100%\n",
       "Name: host_response_rate, dtype: object"
      ]
     },
     "execution_count": 12,
     "metadata": {},
     "output_type": "execute_result"
    }
   ],
   "source": [
    "# host_response_rate\n",
    "seattle_listings['host_response_rate'].head()"
   ]
  },
  {
   "cell_type": "markdown",
   "metadata": {},
   "source": [
    "The column is a string with % appended top every non null value. Lets modify the same and observe the distribution"
   ]
  },
  {
   "cell_type": "code",
   "execution_count": 13,
   "metadata": {},
   "outputs": [
    {
     "data": {
      "text/plain": [
       "<matplotlib.axes._subplots.AxesSubplot at 0x7f4262446be0>"
      ]
     },
     "execution_count": 13,
     "metadata": {},
     "output_type": "execute_result"
    },
    {
     "data": {
      "image/png": "[encoded data removed]",
      "text/plain": [
       "<Figure size 432x288 with 1 Axes>"
      ]
     },
     "metadata": {},
     "output_type": "display_data"
    }
   ],
   "source": [
    "sns.distplot( pd.to_numeric( seattle_listings['host_response_rate'].apply(lambda x: respect_nulls(x, remove_pct)) ) )    "
   ]
  },
  {
   "cell_type": "markdown",
   "metadata": {},
   "source": [
    "One can observe the distribution is very skwewed and is very heavy at and around 100%\n",
    "Hence may be having 100% response rate may not mean much, however not having a 100% response rate might mean something though"
   ]
  },
  {
   "cell_type": "code",
   "execution_count": 14,
   "metadata": {},
   "outputs": [
    {
     "data": {
      "text/plain": [
       "within an hour        1692\n",
       "within a few hours     968\n",
       "within a day           597\n",
       "a few days or more      38\n",
       "Name: host_response_time, dtype: int64"
      ]
     },
     "execution_count": 14,
     "metadata": {},
     "output_type": "execute_result"
    }
   ],
   "source": [
    "# host_response_time\n",
    "\n",
    "seattle_listings['host_response_time'].value_counts()\n",
    "\n",
    "# Again a very skewed distribution. It seems most hosts are pretty responsive"
   ]
  },
  {
   "cell_type": "code",
   "execution_count": 15,
   "metadata": {},
   "outputs": [
    {
     "data": {
      "text/plain": [
       "100%    3044\n",
       "0%         1\n",
       "Name: host_acceptance_rate, dtype: int64"
      ]
     },
     "execution_count": 15,
     "metadata": {},
     "output_type": "execute_result"
    }
   ],
   "source": [
    "# host_acceptance_rate\n",
    "seattle_listings['host_acceptance_rate'].value_counts()\n",
    "\n",
    "# host_acceptance_rate = 100% almost all the time its populated ( 3044/3818 = 79.72% ). Hence we could say the field is either null or equal to 100%"
   ]
  },
  {
   "cell_type": "code",
   "execution_count": 16,
   "metadata": {},
   "outputs": [
    {
     "data": {
      "text/plain": [
       "f    3038\n",
       "t     778\n",
       "Name: host_is_superhost, dtype: int64"
      ]
     },
     "execution_count": 16,
     "metadata": {},
     "output_type": "execute_result"
    }
   ],
   "source": [
    "# host_is_superhost\n",
    "\n",
    "# Firstly who is a super host?\n",
    "# Definition of super host: https://www.airbnb.co.in/help/article/828/what-is-a-superhost\n",
    "\n",
    "seattle_listings['host_is_superhost'].value_counts()\n",
    "\n",
    "# Few people are super hosts which seems understandable\n",
    "# The field is populated for all but 2 records\n",
    "# 20.3% of the listings are from super hosts, the remaining 79.7% is from non super hosts"
   ]
  },
  {
   "cell_type": "code",
   "execution_count": 17,
   "metadata": {},
   "outputs": [
    {
     "name": "stdout",
     "output_type": "stream",
     "text": [
      "Num unique host: 2751\n",
      "Num super hosts: 537 : 19.52%\n",
      "Num non-super hosts: 2212 : 80.41%\n"
     ]
    }
   ],
   "source": [
    "# Lets take a look at how many hosts are there and how many are super hosts\n",
    "\n",
    "num_unique_hosts = len(set(seattle_listings['host_id'].unique())) \n",
    "num_super_hosts = len(set(seattle_listings[seattle_listings['host_is_superhost'] == 't']['host_id'].unique()))\n",
    "num_non_super_hosts = len(set(seattle_listings[seattle_listings['host_is_superhost'] == 'f']['host_id'].unique()))\n",
    "\n",
    "print('Num unique host: ' + str(num_unique_hosts) )\n",
    "print('Num super hosts: ' + str(num_super_hosts) + ' : ' + str( round( (num_super_hosts/num_unique_hosts)*100 , 2) )  + '%' )\n",
    "print('Num non-super hosts: ' + str(num_non_super_hosts) + ' : ' + str( round( (num_non_super_hosts/num_unique_hosts)*100,2) ) + '%')"
   ]
  },
  {
   "cell_type": "code",
   "execution_count": 18,
   "metadata": {},
   "outputs": [
    {
     "data": {
      "text/plain": [
       "Seattle, Washington, United States                             3259\n",
       "US                                                              246\n",
       "Spokane, Washington, United States                               41\n",
       "Kent, Washington, United States                                  34\n",
       "Los Angeles, California, United States                           13\n",
       "Bellevue, Washington, United States                              12\n",
       "San Francisco, California, United States                         11\n",
       "Mercer Island, Washington, United States                         10\n",
       "Kirkland, Washington, United States                               8\n",
       "New York, New York, United States                                 6\n",
       "Shoreline, Washington, United States                              5\n",
       "Sammamish, Washington, United States                              5\n",
       "Seattle                                                           5\n",
       "Vashon, Washington, United States                                 5\n",
       "Vancouver, Washington, United States                              4\n",
       "San Diego, California, United States                              4\n",
       "Seattle, Washington                                               4\n",
       "Portland, Oregon, United States                                   4\n",
       "Tucson, Arizona, United States                                    4\n",
       "Blaine, Washington, United States                                 3\n",
       "Washington State, United States                                   3\n",
       "Palm Springs, California, United States                           3\n",
       "Issaquah, Washington, United States                               3\n",
       "Montezuma,Costas Rica  and Seattle Wasington, United States       3\n",
       "Seattle/San Fransisco/Taipei                                      3\n",
       "Vancouver, British Columbia, Canada                               3\n",
       "San Francisco, California                                         3\n",
       "Seattle, WA                                                       2\n",
       "Seattle and Bellingham, Washington, United States                 2\n",
       "Boston, Massachusetts, United States                              2\n",
       "                                                               ... \n",
       "Bangkok, Thailand                                                 1\n",
       "Seattle, Washington and London, England                           1\n",
       "Ault, Colorado, United States                                     1\n",
       "Houston, Texas, United States                                     1\n",
       "Addison, Texas, United States                                     1\n",
       "Cambridge, Massachusetts, United States                           1\n",
       "Ciudad Obregón, Sonora, Mexico                                    1\n",
       "Luxembourg                                                        1\n",
       "Santa Monica, California, United States                           1\n",
       "Salt Lake City, Utah, United States                               1\n",
       "Minneapolis, Minnesota, United States                             1\n",
       "Dallas, Texas, United States                                      1\n",
       "Edmonds, Washington, United States                                1\n",
       "Calgary, Alberta, Canada                                          1\n",
       "Gig Harbor, Washington, United States                             1\n",
       "Bloomington, Indiana, United States                               1\n",
       "West Seattle, Washington                                          1\n",
       "White Pine, Tennessee, United States                              1\n",
       "Grand Rapids, Michigan, United States                             1\n",
       "Greenbank, Washington, United States                              1\n",
       "West New York, New Jersey, United States                          1\n",
       "Next door to cottage                                              1\n",
       "Toronto, Ontario, Canada                                          1\n",
       "USA (Seattle)/Germany (Lake Constance)                            1\n",
       "Austin, Texas, United States                                      1\n",
       "Kenilworth, Illinois, United States                               1\n",
       "Beijing, Beijing, China                                           1\n",
       "Las Vegas, Nevada, United States                                  1\n",
       "Quilcene, Washington, United States                               1\n",
       "Seattle WA and Portland OR                                        1\n",
       "Name: host_location, Length: 120, dtype: int64"
      ]
     },
     "execution_count": 18,
     "metadata": {},
     "output_type": "execute_result"
    }
   ],
   "source": [
    "# host_location\n",
    "\n",
    "seattle_listings['host_location'].value_counts()\n",
    "\n",
    "# Takes a variety of values with a pretty long tail"
   ]
  },
  {
   "cell_type": "code",
   "execution_count": 19,
   "metadata": {},
   "outputs": [],
   "source": [
    "# 1.b host_listings_count and host_total_listings_counts\n",
    "\n",
    "# Both are numeric columns"
   ]
  },
  {
   "cell_type": "code",
   "execution_count": 20,
   "metadata": {},
   "outputs": [
    {
     "data": {
      "text/plain": [
       "<matplotlib.axes._subplots.AxesSubplot at 0x7f426125c6a0>"
      ]
     },
     "execution_count": 20,
     "metadata": {},
     "output_type": "execute_result"
    },
    {
     "data": {
      "image/png": "[encoded data removed]",
      "text/plain": [
       "<Figure size 1296x288 with 2 Axes>"
      ]
     },
     "metadata": {},
     "output_type": "display_data"
    }
   ],
   "source": [
    "# host_listings_count\n",
    "fig, ax = plt.subplots(1,2, figsize = (18,4) )\n",
    "sns.distplot( seattle_listings['host_listings_count'].dropna(), ax = ax[0] )\n",
    "sns.distplot( seattle_listings['host_total_listings_count'].dropna(), ax = ax[1] )"
   ]
  },
  {
   "cell_type": "code",
   "execution_count": 21,
   "metadata": {},
   "outputs": [
    {
     "name": "stdout",
     "output_type": "stream",
     "text": [
      "% of rows where the two are equal: 1.0\n",
      "num rows where the two are not equal: 2\n",
      "rows where the 2 are not equal: \n",
      "            id  host_listings_count  host_total_listings_count\n",
      "1297   8354452                  NaN                        NaN\n",
      "1419  10235014                  NaN                        NaN\n"
     ]
    }
   ],
   "source": [
    "# The two distributions look really similar. How often are the two values equal?\n",
    "\n",
    "print( '% of rows where the two are equal: ' + str(seattle_listings.dropna(subset = ['host_total_listings_count', 'host_listings_count']).apply(lambda x: x['host_total_listings_count'] == x['host_listings_count'], axis = 1 ).mean() ) )\n",
    "print( 'num rows where the two are not equal: ' + str(seattle_listings[seattle_listings['host_listings_count'] != seattle_listings['host_total_listings_count']].shape[0]))\n",
    "print( 'rows where the 2 are not equal: ')\n",
    "print(seattle_listings[seattle_listings['host_listings_count'] != seattle_listings['host_total_listings_count']][['id', 'host_listings_count', 'host_total_listings_count']])"
   ]
  },
  {
   "cell_type": "markdown",
   "metadata": {},
   "source": [
    "Hence the columns host_listings_count and host_total_listings_count are identical"
   ]
  },
  {
   "cell_type": "code",
   "execution_count": 22,
   "metadata": {},
   "outputs": [
    {
     "data": {
      "text/plain": [
       "t    2997\n",
       "f     819\n",
       "Name: host_identity_verified, dtype: int64"
      ]
     },
     "execution_count": 22,
     "metadata": {},
     "output_type": "execute_result"
    }
   ],
   "source": [
    "# 1.c host_identity_verified\n",
    "# This is a boolean variable represented as a string (t/f)\n",
    "\n",
    "seattle_listings['host_identity_verified'].value_counts()"
   ]
  },
  {
   "cell_type": "code",
   "execution_count": 23,
   "metadata": {},
   "outputs": [
    {
     "name": "stdout",
     "output_type": "stream",
     "text": [
      "Num unique host: 2751\n",
      "Num hosts with identity verification: 537 : 75.14%\n",
      "Num hosts without identity verification: 2212 : 24.79%\n"
     ]
    }
   ],
   "source": [
    "num_identity_verified_hosts = len(set(seattle_listings[seattle_listings['host_identity_verified'] == 't']['host_id'].unique()))\n",
    "num_identity_not_verified_hosts = len(set(seattle_listings[seattle_listings['host_identity_verified'] == 'f']['host_id'].unique()))\n",
    "\n",
    "print('Num unique host: ' + str(num_unique_hosts) )\n",
    "print('Num hosts with identity verification: ' + str(num_super_hosts) + ' : ' + str( round( (num_identity_verified_hosts/num_unique_hosts)*100 , 2) )  + '%' )\n",
    "print('Num hosts without identity verification: ' + str(num_non_super_hosts) + ' : ' + str( round( (num_identity_not_verified_hosts/num_unique_hosts)*100,2) ) + '%')"
   ]
  },
  {
   "cell_type": "markdown",
   "metadata": {},
   "source": [
    "The column is mostly populated (2997+819)/3818 = 3816/3818 = 0.999476166 ( i.e only 2 records where its not populated )\n",
    "<br>\n",
    "2997/3816 = 78.5% of the listings have their host's identity verified\n",
    "<br>\n",
    "21.5% of the records where the host identity is not verified<br>"
   ]
  },
  {
   "cell_type": "code",
   "execution_count": 24,
   "metadata": {},
   "outputs": [
    {
     "data": {
      "text/plain": [
       "0                 ['email', 'phone', 'reviews', 'kba']\n",
       "1    ['email', 'phone', 'facebook', 'linkedin', 're...\n",
       "2     ['email', 'phone', 'google', 'reviews', 'jumio']\n",
       "3    ['email', 'phone', 'facebook', 'reviews', 'jum...\n",
       "4     ['email', 'phone', 'facebook', 'reviews', 'kba']\n",
       "Name: host_verifications, dtype: object"
      ]
     },
     "execution_count": 24,
     "metadata": {},
     "output_type": "execute_result"
    }
   ],
   "source": [
    "# 1.d host_verifications\n",
    "\n",
    "# String type column. Contains the list of verifications done for a given host\n",
    "\n",
    "seattle_listings['host_verifications'].head()\n",
    "\n",
    "# One could identify the full list of host verifications possible. We could do that at a later point if necessary"
   ]
  },
  {
   "cell_type": "code",
   "execution_count": 25,
   "metadata": {},
   "outputs": [
    {
     "data": {
      "text/html": [
       "<div>\n",
       "<style scoped>\n",
       "    .dataframe tbody tr th:only-of-type {\n",
       "        vertical-align: middle;\n",
       "    }\n",
       "\n",
       "    .dataframe tbody tr th {\n",
       "        vertical-align: top;\n",
       "    }\n",
       "\n",
       "    .dataframe thead th {\n",
       "        text-align: right;\n",
       "    }\n",
       "</style>\n",
       "<table border=\"1\" class=\"dataframe\">\n",
       "  <thead>\n",
       "    <tr style=\"text-align: right;\">\n",
       "      <th></th>\n",
       "      <th>neighbourhood</th>\n",
       "      <th>neighbourhood_cleansed</th>\n",
       "      <th>neighbourhood_group_cleansed</th>\n",
       "    </tr>\n",
       "  </thead>\n",
       "  <tbody>\n",
       "    <tr>\n",
       "      <th>0</th>\n",
       "      <td>Queen Anne</td>\n",
       "      <td>West Queen Anne</td>\n",
       "      <td>Queen Anne</td>\n",
       "    </tr>\n",
       "    <tr>\n",
       "      <th>12</th>\n",
       "      <td>NaN</td>\n",
       "      <td>West Queen Anne</td>\n",
       "      <td>Queen Anne</td>\n",
       "    </tr>\n",
       "    <tr>\n",
       "      <th>65</th>\n",
       "      <td>NaN</td>\n",
       "      <td>Adams</td>\n",
       "      <td>Ballard</td>\n",
       "    </tr>\n",
       "    <tr>\n",
       "      <th>66</th>\n",
       "      <td>Ballard</td>\n",
       "      <td>Adams</td>\n",
       "      <td>Ballard</td>\n",
       "    </tr>\n",
       "    <tr>\n",
       "      <th>135</th>\n",
       "      <td>Ballard</td>\n",
       "      <td>West Woodland</td>\n",
       "      <td>Ballard</td>\n",
       "    </tr>\n",
       "  </tbody>\n",
       "</table>\n",
       "</div>"
      ],
      "text/plain": [
       "    neighbourhood neighbourhood_cleansed neighbourhood_group_cleansed\n",
       "0      Queen Anne        West Queen Anne                   Queen Anne\n",
       "12            NaN        West Queen Anne                   Queen Anne\n",
       "65            NaN                  Adams                      Ballard\n",
       "66        Ballard                  Adams                      Ballard\n",
       "135       Ballard          West Woodland                      Ballard"
      ]
     },
     "execution_count": 25,
     "metadata": {},
     "output_type": "execute_result"
    }
   ],
   "source": [
    "# 1.e neighbourhood, neighbourhood_cleansed, neighbourhood_group_cleansed\n",
    "\n",
    "seattle_listings[['neighbourhood', 'neighbourhood_cleansed', 'neighbourhood_group_cleansed']].drop_duplicates().head()\n",
    "\n",
    "# neighbourhood seems to be a column describing the neighbourhood as one would expect\n",
    "# The latter 2 seem to be preprocessed and cleaned versions of the same"
   ]
  },
  {
   "cell_type": "code",
   "execution_count": 26,
   "metadata": {},
   "outputs": [
    {
     "name": "stdout",
     "output_type": "stream",
     "text": [
      "Num neighbourhoods listed in Seattle: 87\n",
      "Num neighbourhood groups listed in Seattle: 17\n"
     ]
    }
   ],
   "source": [
    "# How many distinct neighbourhoods and neighbourhood groups are there?\n",
    "\n",
    "print( 'Num neighbourhoods listed in Seattle: ' + str(len(set(seattle_listings.neighbourhood_cleansed.unique()))))\n",
    "print( 'Num neighbourhood groups listed in Seattle: ' + str(len(set(seattle_listings.neighbourhood_group_cleansed.unique()))))"
   ]
  },
  {
   "cell_type": "code",
   "execution_count": 27,
   "metadata": {},
   "outputs": [
    {
     "data": {
      "text/plain": [
       "Seattle    3818\n",
       "Name: market, dtype: int64"
      ]
     },
     "execution_count": 27,
     "metadata": {},
     "output_type": "execute_result"
    }
   ],
   "source": [
    "# 1.f market\n",
    "\n",
    "seattle_listings['market'].value_counts()\n",
    "\n",
    "# This is Seattle all the time and hence doesnt differentiate any rows"
   ]
  },
  {
   "cell_type": "code",
   "execution_count": 28,
   "metadata": {},
   "outputs": [
    {
     "data": {
      "text/plain": [
       "1     2275\n",
       "2      989\n",
       "4      237\n",
       "0       92\n",
       "3       80\n",
       "6       71\n",
       "5       28\n",
       "8       24\n",
       "7       14\n",
       "9        2\n",
       "10       2\n",
       "15       1\n",
       "13       1\n",
       "11       1\n",
       "12       1\n",
       "Name: guests_included, dtype: int64"
      ]
     },
     "execution_count": 28,
     "metadata": {},
     "output_type": "execute_result"
    }
   ],
   "source": [
    "# 1.g guest_included\n",
    "\n",
    "seattle_listings['guests_included'].value_counts()\n",
    "\n",
    "# Indicates the number of guests allowed in the facility. Againa fairly skewed distribution, heavy at 1 and tapers off after that.\n",
    "# Surprisingly there are some facilities where there are no guests allowed"
   ]
  },
  {
   "cell_type": "code",
   "execution_count": 29,
   "metadata": {},
   "outputs": [
    {
     "data": {
      "text/plain": [
       "<matplotlib.axes._subplots.AxesSubplot at 0x7f42611de0f0>"
      ]
     },
     "execution_count": 29,
     "metadata": {},
     "output_type": "execute_result"
    },
    {
     "data": {
      "image/png": "[encoded data removed]",
      "text/plain": [
       "<Figure size 432x288 with 1 Axes>"
      ]
     },
     "metadata": {},
     "output_type": "display_data"
    }
   ],
   "source": [
    "# 1.h extra_people\n",
    "\n",
    "# Contains the charge for bringing in one extra person to the listing\n",
    "# Its a string prepended with the $ sign\n",
    "\n",
    "sns.distplot( pd.to_numeric( seattle_listings['extra_people'].apply(lambda x: respect_nulls(x, remove_dollar)) ) )\n",
    "\n",
    "# Most people seem to charge nothing. The rest are largely less than 50$, with some going much higher"
   ]
  },
  {
   "cell_type": "code",
   "execution_count": 30,
   "metadata": {},
   "outputs": [
    {
     "data": {
      "text/html": [
       "<div>\n",
       "<style scoped>\n",
       "    .dataframe tbody tr th:only-of-type {\n",
       "        vertical-align: middle;\n",
       "    }\n",
       "\n",
       "    .dataframe tbody tr th {\n",
       "        vertical-align: top;\n",
       "    }\n",
       "\n",
       "    .dataframe thead th {\n",
       "        text-align: right;\n",
       "    }\n",
       "</style>\n",
       "<table border=\"1\" class=\"dataframe\">\n",
       "  <thead>\n",
       "    <tr style=\"text-align: right;\">\n",
       "      <th></th>\n",
       "      <th>has_availability</th>\n",
       "      <th>availability_30</th>\n",
       "      <th>availability_60</th>\n",
       "      <th>availability_90</th>\n",
       "      <th>availability_365</th>\n",
       "    </tr>\n",
       "  </thead>\n",
       "  <tbody>\n",
       "    <tr>\n",
       "      <th>0</th>\n",
       "      <td>t</td>\n",
       "      <td>14</td>\n",
       "      <td>41</td>\n",
       "      <td>71</td>\n",
       "      <td>346</td>\n",
       "    </tr>\n",
       "    <tr>\n",
       "      <th>1</th>\n",
       "      <td>t</td>\n",
       "      <td>13</td>\n",
       "      <td>13</td>\n",
       "      <td>16</td>\n",
       "      <td>291</td>\n",
       "    </tr>\n",
       "    <tr>\n",
       "      <th>2</th>\n",
       "      <td>t</td>\n",
       "      <td>1</td>\n",
       "      <td>6</td>\n",
       "      <td>17</td>\n",
       "      <td>220</td>\n",
       "    </tr>\n",
       "    <tr>\n",
       "      <th>3</th>\n",
       "      <td>t</td>\n",
       "      <td>0</td>\n",
       "      <td>0</td>\n",
       "      <td>0</td>\n",
       "      <td>143</td>\n",
       "    </tr>\n",
       "    <tr>\n",
       "      <th>4</th>\n",
       "      <td>t</td>\n",
       "      <td>30</td>\n",
       "      <td>60</td>\n",
       "      <td>90</td>\n",
       "      <td>365</td>\n",
       "    </tr>\n",
       "  </tbody>\n",
       "</table>\n",
       "</div>"
      ],
      "text/plain": [
       "  has_availability  availability_30  availability_60  availability_90  \\\n",
       "0                t               14               41               71   \n",
       "1                t               13               13               16   \n",
       "2                t                1                6               17   \n",
       "3                t                0                0                0   \n",
       "4                t               30               60               90   \n",
       "\n",
       "   availability_365  \n",
       "0               346  \n",
       "1               291  \n",
       "2               220  \n",
       "3               143  \n",
       "4               365  "
      ]
     },
     "execution_count": 30,
     "metadata": {},
     "output_type": "execute_result"
    }
   ],
   "source": [
    "# 1.i has_availability, has_availability_30, has_availability_60, has_availability_90, has_availability_365\n",
    "\n",
    "seattle_listings[['has_availability', 'availability_30', 'availability_60', 'availability_90', 'availability_365']].head()"
   ]
  },
  {
   "cell_type": "code",
   "execution_count": 31,
   "metadata": {},
   "outputs": [
    {
     "data": {
      "text/plain": [
       "t    3818\n",
       "Name: has_availability, dtype: int64"
      ]
     },
     "execution_count": 31,
     "metadata": {},
     "output_type": "execute_result"
    }
   ],
   "source": [
    "seattle_listings['has_availability'].value_counts()"
   ]
  },
  {
   "cell_type": "markdown",
   "metadata": {},
   "source": [
    "availability_xyz is the number of the days the listing is available in the upcoming xyz days\n",
    "\n",
    "has_availability is always true and is hence not very useful information.\n",
    "Its likely so because we are only looking at the active listings on AirBnb for the given time period"
   ]
  },
  {
   "cell_type": "code",
   "execution_count": 32,
   "metadata": {},
   "outputs": [
    {
     "data": {
      "text/html": [
       "<div>\n",
       "<style scoped>\n",
       "    .dataframe tbody tr th:only-of-type {\n",
       "        vertical-align: middle;\n",
       "    }\n",
       "\n",
       "    .dataframe tbody tr th {\n",
       "        vertical-align: top;\n",
       "    }\n",
       "\n",
       "    .dataframe thead th {\n",
       "        text-align: right;\n",
       "    }\n",
       "</style>\n",
       "<table border=\"1\" class=\"dataframe\">\n",
       "  <thead>\n",
       "    <tr style=\"text-align: right;\">\n",
       "      <th></th>\n",
       "      <th>first_review</th>\n",
       "      <th>last_review</th>\n",
       "    </tr>\n",
       "  </thead>\n",
       "  <tbody>\n",
       "    <tr>\n",
       "      <th>0</th>\n",
       "      <td>2011-11-01</td>\n",
       "      <td>2016-01-02</td>\n",
       "    </tr>\n",
       "    <tr>\n",
       "      <th>1</th>\n",
       "      <td>2013-08-19</td>\n",
       "      <td>2015-12-29</td>\n",
       "    </tr>\n",
       "    <tr>\n",
       "      <th>2</th>\n",
       "      <td>2014-07-30</td>\n",
       "      <td>2015-09-03</td>\n",
       "    </tr>\n",
       "    <tr>\n",
       "      <th>3</th>\n",
       "      <td>NaN</td>\n",
       "      <td>NaN</td>\n",
       "    </tr>\n",
       "    <tr>\n",
       "      <th>4</th>\n",
       "      <td>2012-07-10</td>\n",
       "      <td>2015-10-24</td>\n",
       "    </tr>\n",
       "  </tbody>\n",
       "</table>\n",
       "</div>"
      ],
      "text/plain": [
       "  first_review last_review\n",
       "0   2011-11-01  2016-01-02\n",
       "1   2013-08-19  2015-12-29\n",
       "2   2014-07-30  2015-09-03\n",
       "3          NaN         NaN\n",
       "4   2012-07-10  2015-10-24"
      ]
     },
     "execution_count": 32,
     "metadata": {},
     "output_type": "execute_result"
    }
   ],
   "source": [
    "# 1.j first_review, last_review\n",
    "\n",
    "seattle_listings[['first_review','last_review']].head()\n",
    "\n",
    "# These are dates represented as strings and indicate the date of the first and last review written for that listing"
   ]
  },
  {
   "cell_type": "code",
   "execution_count": 33,
   "metadata": {},
   "outputs": [
    {
     "name": "stdout",
     "output_type": "stream",
     "text": [
      "f    3818\n",
      "Name: requires_license, dtype: int64\n",
      "Series([], Name: license, dtype: int64)\n"
     ]
    }
   ],
   "source": [
    "# 1.k requires_license, license\n",
    "\n",
    "print( seattle_listings['requires_license'].value_counts() )\n",
    "print( seattle_listings['license'].value_counts() )\n",
    "\n",
    "# requires_license is populated for all rows and always false\n",
    "# license is always null\n",
    "# hence neither column is very useful"
   ]
  },
  {
   "cell_type": "code",
   "execution_count": 34,
   "metadata": {},
   "outputs": [
    {
     "data": {
      "text/html": [
       "<div>\n",
       "<style scoped>\n",
       "    .dataframe tbody tr th:only-of-type {\n",
       "        vertical-align: middle;\n",
       "    }\n",
       "\n",
       "    .dataframe tbody tr th {\n",
       "        vertical-align: top;\n",
       "    }\n",
       "\n",
       "    .dataframe thead th {\n",
       "        text-align: right;\n",
       "    }\n",
       "</style>\n",
       "<table border=\"1\" class=\"dataframe\">\n",
       "  <thead>\n",
       "    <tr style=\"text-align: right;\">\n",
       "      <th></th>\n",
       "      <th>summary</th>\n",
       "      <th>space</th>\n",
       "      <th>description</th>\n",
       "    </tr>\n",
       "  </thead>\n",
       "  <tbody>\n",
       "    <tr>\n",
       "      <th>0</th>\n",
       "      <td>NaN</td>\n",
       "      <td>Make your self at home in this charming one-be...</td>\n",
       "      <td>Make your self at home in this charming one-be...</td>\n",
       "    </tr>\n",
       "    <tr>\n",
       "      <th>1</th>\n",
       "      <td>Chemically sensitive? We've removed the irrita...</td>\n",
       "      <td>Beautiful, hypoallergenic apartment in an extr...</td>\n",
       "      <td>Chemically sensitive? We've removed the irrita...</td>\n",
       "    </tr>\n",
       "    <tr>\n",
       "      <th>2</th>\n",
       "      <td>New modern house built in 2013.  Spectacular s...</td>\n",
       "      <td>Our house is modern, light and fresh with a wa...</td>\n",
       "      <td>New modern house built in 2013.  Spectacular s...</td>\n",
       "    </tr>\n",
       "    <tr>\n",
       "      <th>3</th>\n",
       "      <td>A charming apartment that sits atop Queen Anne...</td>\n",
       "      <td>NaN</td>\n",
       "      <td>A charming apartment that sits atop Queen Anne...</td>\n",
       "    </tr>\n",
       "    <tr>\n",
       "      <th>4</th>\n",
       "      <td>Cozy family craftman house in beautiful neighb...</td>\n",
       "      <td>Cozy family craftman house in beautiful neighb...</td>\n",
       "      <td>Cozy family craftman house in beautiful neighb...</td>\n",
       "    </tr>\n",
       "  </tbody>\n",
       "</table>\n",
       "</div>"
      ],
      "text/plain": [
       "                                             summary  \\\n",
       "0                                                NaN   \n",
       "1  Chemically sensitive? We've removed the irrita...   \n",
       "2  New modern house built in 2013.  Spectacular s...   \n",
       "3  A charming apartment that sits atop Queen Anne...   \n",
       "4  Cozy family craftman house in beautiful neighb...   \n",
       "\n",
       "                                               space  \\\n",
       "0  Make your self at home in this charming one-be...   \n",
       "1  Beautiful, hypoallergenic apartment in an extr...   \n",
       "2  Our house is modern, light and fresh with a wa...   \n",
       "3                                                NaN   \n",
       "4  Cozy family craftman house in beautiful neighb...   \n",
       "\n",
       "                                         description  \n",
       "0  Make your self at home in this charming one-be...  \n",
       "1  Chemically sensitive? We've removed the irrita...  \n",
       "2  New modern house built in 2013.  Spectacular s...  \n",
       "3  A charming apartment that sits atop Queen Anne...  \n",
       "4  Cozy family craftman house in beautiful neighb...  "
      ]
     },
     "execution_count": 34,
     "metadata": {},
     "output_type": "execute_result"
    }
   ],
   "source": [
    "# 1.l summary, space, description\n",
    "\n",
    "seattle_listings[['summary', 'space', 'description']].head()\n",
    "\n",
    "# At first glance they all seem to talking about the same or similar things. Summary and description seem identical from these 5 rows\n",
    "# We can investigate further, possibly extract keywords etc from them if need be at a later point"
   ]
  },
  {
   "cell_type": "code",
   "execution_count": 35,
   "metadata": {},
   "outputs": [
    {
     "data": {
      "text/plain": [
       "0        Gilman Dr W, Seattle, WA 98119, United States\n",
       "1    7th Avenue West, Seattle, WA 98119, United States\n",
       "2    West Lee Street, Seattle, WA 98119, United States\n",
       "3    8th Avenue West, Seattle, WA 98119, United States\n",
       "4         14th Ave W, Seattle, WA 98119, United States\n",
       "Name: street, dtype: object"
      ]
     },
     "execution_count": 35,
     "metadata": {},
     "output_type": "execute_result"
    }
   ],
   "source": [
    "# 1.m  street\n",
    "\n",
    "seattle_listings['street'].head()\n",
    "\n",
    "# This is the street address of the listing"
   ]
  },
  {
   "cell_type": "code",
   "execution_count": 36,
   "metadata": {},
   "outputs": [
    {
     "data": {
      "text/plain": [
       "0    {TV,\"Cable TV\",Internet,\"Wireless Internet\",\"A...\n",
       "1    {TV,Internet,\"Wireless Internet\",Kitchen,\"Free...\n",
       "2    {TV,\"Cable TV\",Internet,\"Wireless Internet\",\"A...\n",
       "3    {Internet,\"Wireless Internet\",Kitchen,\"Indoor ...\n",
       "4    {TV,\"Cable TV\",Internet,\"Wireless Internet\",Ki...\n",
       "Name: amenities, dtype: object"
      ]
     },
     "execution_count": 36,
     "metadata": {},
     "output_type": "execute_result"
    }
   ],
   "source": [
    "# 1.n amenities\n",
    "\n",
    "seattle_listings['amenities'].head()\n",
    "\n",
    "# A list of facilities available in the facility\n",
    "# One can see from the data below and the AirBnb website thats is a fixed list and hosts have to chose from the same"
   ]
  },
  {
   "cell_type": "code",
   "execution_count": 37,
   "metadata": {},
   "outputs": [
    {
     "data": {
      "text/plain": [
       "0                                                  NaN\n",
       "1    What's up with the free pillows?  Our home was...\n",
       "2    Our house is located just 5 short blocks to To...\n",
       "3                                                  NaN\n",
       "4                                            Belltown \n",
       "Name: notes, dtype: object"
      ]
     },
     "execution_count": 37,
     "metadata": {},
     "output_type": "execute_result"
    }
   ],
   "source": [
    "# 1.o notes\n",
    "\n",
    "seattle_listings['notes'].head()\n",
    "\n",
    "# As the name suggests, its a note to guest or prospective guest. Sort of an extension to description in some ways"
   ]
  },
  {
   "cell_type": "code",
   "execution_count": 38,
   "metadata": {},
   "outputs": [
    {
     "data": {
      "text/plain": [
       "0                                                  NaN\n",
       "1    Convenient bus stops are just down the block, ...\n",
       "2    A bus stop is just 2 blocks away.   Easy bus a...\n",
       "3                                                  NaN\n",
       "4    The nearest public transit bus (D Line) is 2 b...\n",
       "Name: transit, dtype: object"
      ]
     },
     "execution_count": 38,
     "metadata": {},
     "output_type": "execute_result"
    }
   ],
   "source": [
    "# 1.p transit\n",
    "\n",
    "seattle_listings['transit'].head()\n",
    "\n",
    "# Description on the nearest public transport and how to get to and move around the place\n",
    "# Not quite usable unless we extra features from it"
   ]
  },
  {
   "cell_type": "code",
   "execution_count": 39,
   "metadata": {},
   "outputs": [
    {
     "data": {
      "text/html": [
       "<div>\n",
       "<style scoped>\n",
       "    .dataframe tbody tr th:only-of-type {\n",
       "        vertical-align: middle;\n",
       "    }\n",
       "\n",
       "    .dataframe tbody tr th {\n",
       "        vertical-align: top;\n",
       "    }\n",
       "\n",
       "    .dataframe thead th {\n",
       "        text-align: right;\n",
       "    }\n",
       "</style>\n",
       "<table border=\"1\" class=\"dataframe\">\n",
       "  <thead>\n",
       "    <tr style=\"text-align: right;\">\n",
       "      <th></th>\n",
       "      <th>calendar_updated</th>\n",
       "      <th>calendar_last_scraped</th>\n",
       "    </tr>\n",
       "  </thead>\n",
       "  <tbody>\n",
       "    <tr>\n",
       "      <th>0</th>\n",
       "      <td>4 weeks ago</td>\n",
       "      <td>2016-01-04</td>\n",
       "    </tr>\n",
       "    <tr>\n",
       "      <th>1</th>\n",
       "      <td>today</td>\n",
       "      <td>2016-01-04</td>\n",
       "    </tr>\n",
       "    <tr>\n",
       "      <th>2</th>\n",
       "      <td>5 weeks ago</td>\n",
       "      <td>2016-01-04</td>\n",
       "    </tr>\n",
       "    <tr>\n",
       "      <th>3</th>\n",
       "      <td>6 months ago</td>\n",
       "      <td>2016-01-04</td>\n",
       "    </tr>\n",
       "    <tr>\n",
       "      <th>4</th>\n",
       "      <td>7 weeks ago</td>\n",
       "      <td>2016-01-04</td>\n",
       "    </tr>\n",
       "  </tbody>\n",
       "</table>\n",
       "</div>"
      ],
      "text/plain": [
       "  calendar_updated calendar_last_scraped\n",
       "0      4 weeks ago            2016-01-04\n",
       "1            today            2016-01-04\n",
       "2      5 weeks ago            2016-01-04\n",
       "3     6 months ago            2016-01-04\n",
       "4      7 weeks ago            2016-01-04"
      ]
     },
     "execution_count": 39,
     "metadata": {},
     "output_type": "execute_result"
    }
   ],
   "source": [
    "# 1.q calendar_updated, calendar_last_scrap\n",
    "\n",
    "seattle_listings[['calendar_updated', 'calendar_last_scraped']].head()\n",
    "\n",
    "# calendar_last_scraped is the date the calendar was last pulled\n",
    "# calendar_updated is a textual representation of the same information"
   ]
  },
  {
   "cell_type": "code",
   "execution_count": 40,
   "metadata": {},
   "outputs": [
    {
     "data": {
      "text/plain": [
       "Seattle, WA                  3810\n",
       "West Seattle, WA                2\n",
       "Seattle , WA                    2\n",
       "seattle, wa                     1\n",
       "Phinney Ridge Seattle, WA       1\n",
       "西雅图, WA                         1\n",
       "Ballard, Seattle, WA            1\n",
       "Name: smart_location, dtype: int64"
      ]
     },
     "execution_count": 40,
     "metadata": {},
     "output_type": "execute_result"
    }
   ],
   "source": [
    "# 1.r smart_location\n",
    "\n",
    "seattle_listings['smart_location'].value_counts()\n",
    "\n",
    "# 3810/3818 listings have smart_location listed as 'Seattle, WA'. The rest are slight variations of the same\n",
    "# Doesnt really differentiate the rows in any significant way"
   ]
  },
  {
   "cell_type": "code",
   "execution_count": 41,
   "metadata": {},
   "outputs": [
    {
     "data": {
      "text/plain": [
       "t    3412\n",
       "f     406\n",
       "Name: is_location_exact, dtype: int64"
      ]
     },
     "execution_count": 41,
     "metadata": {},
     "output_type": "execute_result"
    }
   ],
   "source": [
    "# 1.s is_location_exact\n",
    "\n",
    "seattle_listings['is_location_exact'].value_counts()\n",
    "\n",
    "# The column is populated for all rows\n",
    "# 3412/3818 = 89.3% of the listings are supposed to have an exact location\n",
    "# The remaining 10.7% dont have an exact location listed1"
   ]
  },
  {
   "cell_type": "code",
   "execution_count": 42,
   "metadata": {},
   "outputs": [
    {
     "data": {
      "text/plain": [
       "none    3818\n",
       "Name: experiences_offered, dtype: int64"
      ]
     },
     "execution_count": 42,
     "metadata": {},
     "output_type": "execute_result"
    }
   ],
   "source": [
    "# 1.t experiences_offered\n",
    "\n",
    "seattle_listings['experiences_offered'].value_counts()\n",
    "\n",
    "# Null all the time"
   ]
  },
  {
   "cell_type": "code",
   "execution_count": 43,
   "metadata": {},
   "outputs": [
    {
     "data": {
      "text/plain": [
       "House              1733\n",
       "Apartment          1708\n",
       "Townhouse           118\n",
       "Condominium          91\n",
       "Loft                 40\n",
       "Bed & Breakfast      37\n",
       "Other                22\n",
       "Cabin                21\n",
       "Bungalow             13\n",
       "Camper/RV            13\n",
       "Boat                  8\n",
       "Tent                  5\n",
       "Treehouse             3\n",
       "Chalet                2\n",
       "Dorm                  2\n",
       "Yurt                  1\n",
       "Name: property_type, dtype: int64"
      ]
     },
     "execution_count": 43,
     "metadata": {},
     "output_type": "execute_result"
    }
   ],
   "source": [
    "# 1.u property_type\n",
    "\n",
    "seattle_listings['property_type'].value_counts()\n",
    "\n",
    "# The top 2 have significant numbers. Townhouse and condo with counts around 100 are good too.\n",
    "# The rest have too small a population to derive much value out of"
   ]
  },
  {
   "cell_type": "code",
   "execution_count": 44,
   "metadata": {},
   "outputs": [
    {
     "data": {
      "text/plain": [
       "Entire home/apt    2541\n",
       "Private room       1160\n",
       "Shared room         117\n",
       "Name: room_type, dtype: int64"
      ]
     },
     "execution_count": 44,
     "metadata": {},
     "output_type": "execute_result"
    }
   ],
   "source": [
    "# 1.v room_type\n",
    "\n",
    "seattle_listings['room_type'].value_counts()"
   ]
  },
  {
   "cell_type": "code",
   "execution_count": 45,
   "metadata": {},
   "outputs": [
    {
     "name": "stdout",
     "output_type": "stream",
     "text": [
      "Num rows with null room_type: 0\n",
      "Num rows with null property_type: 1\n"
     ]
    }
   ],
   "source": [
    "# Are room type and property_type populated for each row?\n",
    "\n",
    "print( 'Num rows with null room_type: ' + str(seattle_listings[seattle_listings['room_type'].isnull()].shape[0]) )\n",
    "print( 'Num rows with null property_type: ' + str(seattle_listings[seattle_listings['property_type'].isnull()].shape[0]) )"
   ]
  },
  {
   "cell_type": "code",
   "execution_count": 46,
   "metadata": {},
   "outputs": [
    {
     "data": {
      "text/plain": [
       "f    3227\n",
       "t     591\n",
       "Name: instant_bookable, dtype: int64"
      ]
     },
     "execution_count": 46,
     "metadata": {},
     "output_type": "execute_result"
    }
   ],
   "source": [
    "# 1.w instant_bookable\n",
    "\n",
    "seattle_listings['instant_bookable'].value_counts()\n",
    "\n",
    "# Populated for all rows\n",
    "# 591/3818 = 15.5% listings are instant bookable"
   ]
  },
  {
   "cell_type": "code",
   "execution_count": 47,
   "metadata": {},
   "outputs": [
    {
     "data": {
      "text/plain": [
       "strict      1417\n",
       "moderate    1251\n",
       "flexible    1150\n",
       "Name: cancellation_policy, dtype: int64"
      ]
     },
     "execution_count": 47,
     "metadata": {},
     "output_type": "execute_result"
    }
   ],
   "source": [
    "# 1.x cancellation_policy\n",
    "\n",
    "seattle_listings['cancellation_policy'].value_counts()\n",
    "\n",
    "#Populated for all rows\n",
    "#Fairly even distibution"
   ]
  },
  {
   "cell_type": "code",
   "execution_count": 48,
   "metadata": {},
   "outputs": [
    {
     "data": {
      "text/plain": [
       "1     2285\n",
       "2      297\n",
       "3       85\n",
       "4       38\n",
       "5       18\n",
       "6        5\n",
       "9        3\n",
       "7        3\n",
       "10       3\n",
       "11       2\n",
       "12       2\n",
       "16       1\n",
       "8        1\n",
       "39       1\n",
       "18       1\n",
       "34       1\n",
       "36       1\n",
       "37       1\n",
       "21       1\n",
       "33       1\n",
       "46       1\n",
       "Name: id, dtype: int64"
      ]
     },
     "execution_count": 48,
     "metadata": {},
     "output_type": "execute_result"
    }
   ],
   "source": [
    "# 2. Can a single host have multiple listings?\n",
    "\n",
    "# There is a host_id column. Lets see how many listings do people have\n",
    "\n",
    "num_listings_per_host = seattle_listings.groupby('host_id').count()\n",
    "num_listings_per_host['id'].value_counts()\n",
    "\n",
    "# As one would expect most people have just facility listed\n",
    "# A few have 2 facilities and the number of drops quickly with the number of listings by the same host"
   ]
  },
  {
   "cell_type": "markdown",
   "metadata": {},
   "source": [
    "## Summary of above analysis\n",
    "\n",
    "1. What do the following columns mean\n",
    "    1. host_reponse_rate, host_response_time, host_acceptance_rate, host_is_superhost, host_location\n",
    "        <br>\n",
    "        host_reponse_rate is pretty close to 100% of the time\n",
    "        <br>\n",
    "        host_reponse_time is mostly 'within an hour' or 'within a few hours'\n",
    "        <br>\n",
    "        host_acceptance_rate is 100% for 80% rows and null for the remaining 20%\n",
    "        <br>\n",
    "        host_is_superhost: 2751 unique hosts, ~20% are super hosts, ~80% are non-super hosts\n",
    "        <br>\n",
    "        host_location: Indicates where the host lives, Takes a variety of values. Most hosts live in Seattle though\n",
    "    2. host_listings_count and host_total_listings_count\n",
    "        <br>\n",
    "        Numeric field. Indicate number of listings by the same host\n",
    "        <br>\n",
    "        Both fields host_listings_count and host_total_listings_count are equal\n",
    "    3. host_identity_verified\n",
    "        <br>\n",
    "        78.5% records are from hosts that are verified, 21.5% from non-verfiied\n",
    "        <br>\n",
    "        ~75% of the hosts have their identity verified\n",
    "    4. host_verifications\n",
    "        <br>\n",
    "        Contains list of verifications done on the host's identity\n",
    "    5. neighbourhood, neighbourhood_cleansed and neighbourhood_group_cleansed\n",
    "        <br>\n",
    "        neighbourhood describes the neighbourhood of the listing as one expects\n",
    "        <br>\n",
    "        neighbourhood_cleansed and neighbourhood_group_cleansed are pre-processed and cleaned versions of the same\n",
    "        <br>\n",
    "        There are 87 unique neighbourhoods and 17 unique neighbourhood groups\n",
    "    6. market\n",
    "        <br>\n",
    "        This column is always equal to 'Seattle'\n",
    "    7. guests_included\n",
    "        <br>\n",
    "        Numeric column indicating the number of guests allowed in the listed facility\n",
    "        <br>\n",
    "        Skewed distribution, heavy at 1 and tapers off quickly with increasing number of guests\n",
    "    8. extra_people\n",
    "        <br>\n",
    "        Charges for bringing extra people in the facility\n",
    "        <br>\n",
    "        Most people charge nothing. The rest are at or below 50\\\\$ largely. There is a bit of a tail above 50\\\\$ too\n",
    "    9. has_availability, availability_30, availability_60, availability_90, availability_365\n",
    "        <br>\n",
    "        has_availability is always 't'\n",
    "        <br>\n",
    "        availability_xyz is the number of the days the listing is available in the upcoming xyz days\n",
    "    10. first_review, last_review\n",
    "        <br>\n",
    "        Dates of the first and last review\n",
    "    11. requires_license, license\n",
    "        <br>\n",
    "        Redundant columns\n",
    "        <br>\n",
    "        requires_license is always 'f' and license is always null\n",
    "    12. summary, space, description\n",
    "        <br>\n",
    "        Mutiple descriptions of the place catering to slightly different nuances\n",
    "    13. street -> Is this the street address\n",
    "        <br>\n",
    "        Yes, its the street address of the listing\n",
    "    14. amenities -> Is this picked from a drop down or is it free form\n",
    "        <br>\n",
    "        Pick list from a fixed list of amenities listed in AirBnb\n",
    "    15. notes\n",
    "        <br>\n",
    "        Note to the ( prospective ) guest. Extension of description in a way\n",
    "    16. transit\n",
    "        <br>\n",
    "        Text field. Nearest public transport options and how to get to and move around the place\n",
    "    17. calendar_updated, calendar_last_scrap\n",
    "        <br>\n",
    "        Last date the calendar was pulled with regards to this listing\n",
    "    18. smart_location\n",
    "        <br>\n",
    "        Practically always 'Seattle, WA'\n",
    "    19. is_location_exact\n",
    "        <br>\n",
    "        Indicates if the listed location is exact\n",
    "        <br>\n",
    "        89.3% of the facilities have listed an exact location. 10.6% have not\n",
    "    20. experiences_offered\n",
    "        <br>\n",
    "        Null for all records\n",
    "    21. property_type\n",
    "        <br>\n",
    "        Takes several values. Main 4 values are:\n",
    "        1. House\n",
    "        2. Apartment\n",
    "        3. Townhouse\n",
    "        4. Condominium        \n",
    "    22. room_type\n",
    "        Takes 3 values\n",
    "        1. Entire home/apt\n",
    "        2. Private room\n",
    "        3. Shared room        \n",
    "    23. instant_bookable\n",
    "        <br>\n",
    "        15.5% of the listings are instantly bookable\n",
    "    24. cancellation_policy\n",
    "        <br>\n",
    "        Takes 3 values - strict, medium and flexible. Fairly even distributed between them    \n",
    "        \n",
    "2. Can there be multiple listings by a single host? - Seems natural to expect this, but can we see this in the data?\n",
    "<br>\n",
    "      Yes, a host can have multiple listings.\n",
    "      The data indicates most people have only one listing. Some have 2-3 and the numbers fall sharply for more than 3 listings per host      "
   ]
  },
  {
   "cell_type": "markdown",
   "metadata": {},
   "source": [
    "## Questions we can look to answer from the above data\n",
    "\n",
    "1. When are listings typically available?\n",
    "    1. Are they available only on weekends or are they available all through the week?\n",
    "    2. Is there a seasonality pattern across months of the year?<br>\n",
    "    This question was inspired by [Josh Bernard's blog on the analysis of Seattle and Boston AirBnb data](https://medium.com/@josh_2774/a-comparison-of-airbnb-homes-seattle-vs-boston-cdc0df2cfcd7)\n",
    "2. What is the typical discout for dailyrenting a house for a week or a month?\n",
    "3. What variations can one see across neighbourhoods in Seattle?\n",
    "    1. Where most listings are concentrated?\n",
    "    2. Is there a skew in distribution of prices between neighbourhoods?\n",
    "    3. Are some neighbourhoods more available than the other?"
   ]
  },
  {
   "cell_type": "markdown",
   "metadata": {},
   "source": [
    "## Data type conversions and cleaning\n",
    "\n",
    "Before we get to answering the above questions, lets clean up the data and do any transforms required"
   ]
  },
  {
   "cell_type": "code",
   "execution_count": 49,
   "metadata": {},
   "outputs": [],
   "source": [
    "# Converting price columns to numeric - price, weekly_price, monthly_price\n",
    "\n",
    "seattle_listings['price'] = pd.to_numeric( seattle_listings['price'].apply(lambda x: respect_nulls(respect_nulls(x, remove_dollar),remove_comma)))\n",
    "seattle_listings['weekly_price'] = pd.to_numeric( seattle_listings['weekly_price'].apply(lambda x: respect_nulls(respect_nulls(x, remove_dollar),remove_comma)))\n",
    "seattle_listings['monthly_price'] = pd.to_numeric( seattle_listings['monthly_price'].apply(lambda x: respect_nulls(respect_nulls(x, remove_dollar),remove_comma)))"
   ]
  },
  {
   "cell_type": "code",
   "execution_count": 50,
   "metadata": {},
   "outputs": [
    {
     "data": {
      "text/html": [
       "<div>\n",
       "<style scoped>\n",
       "    .dataframe tbody tr th:only-of-type {\n",
       "        vertical-align: middle;\n",
       "    }\n",
       "\n",
       "    .dataframe tbody tr th {\n",
       "        vertical-align: top;\n",
       "    }\n",
       "\n",
       "    .dataframe thead th {\n",
       "        text-align: right;\n",
       "    }\n",
       "</style>\n",
       "<table border=\"1\" class=\"dataframe\">\n",
       "  <thead>\n",
       "    <tr style=\"text-align: right;\">\n",
       "      <th></th>\n",
       "      <th>price</th>\n",
       "      <th>weekly_price</th>\n",
       "      <th>monthly_price</th>\n",
       "    </tr>\n",
       "  </thead>\n",
       "  <tbody>\n",
       "    <tr>\n",
       "      <th>0</th>\n",
       "      <td>85.0</td>\n",
       "      <td>NaN</td>\n",
       "      <td>NaN</td>\n",
       "    </tr>\n",
       "    <tr>\n",
       "      <th>1</th>\n",
       "      <td>150.0</td>\n",
       "      <td>1000.0</td>\n",
       "      <td>3000.0</td>\n",
       "    </tr>\n",
       "    <tr>\n",
       "      <th>2</th>\n",
       "      <td>975.0</td>\n",
       "      <td>NaN</td>\n",
       "      <td>NaN</td>\n",
       "    </tr>\n",
       "    <tr>\n",
       "      <th>3</th>\n",
       "      <td>100.0</td>\n",
       "      <td>650.0</td>\n",
       "      <td>2300.0</td>\n",
       "    </tr>\n",
       "    <tr>\n",
       "      <th>4</th>\n",
       "      <td>450.0</td>\n",
       "      <td>NaN</td>\n",
       "      <td>NaN</td>\n",
       "    </tr>\n",
       "  </tbody>\n",
       "</table>\n",
       "</div>"
      ],
      "text/plain": [
       "   price  weekly_price  monthly_price\n",
       "0   85.0           NaN            NaN\n",
       "1  150.0        1000.0         3000.0\n",
       "2  975.0           NaN            NaN\n",
       "3  100.0         650.0         2300.0\n",
       "4  450.0           NaN            NaN"
      ]
     },
     "execution_count": 50,
     "metadata": {},
     "output_type": "execute_result"
    }
   ],
   "source": [
    "seattle_listings[['price', 'weekly_price', 'monthly_price']].head()"
   ]
  },
  {
   "cell_type": "code",
   "execution_count": 51,
   "metadata": {},
   "outputs": [],
   "source": [
    "# Processing the calendar dataset\n",
    "\n",
    "#Converting the date column to a datetime\n",
    "seattle_calendar['date'] = pd.to_datetime( seattle_calendar['date'] )\n",
    "\n",
    "#Computing the day of week\n",
    "seattle_calendar['dayofweek'] = seattle_calendar['date'].apply(lambda x: x.day_name())\n",
    "\n",
    "#Computing the month of the year\n",
    "seattle_calendar['month'] = seattle_calendar['date'].apply(lambda x: x.month)\n",
    "\n",
    "#Converting available to a boolean column\n",
    "seattle_calendar['available'] = seattle_calendar['available'].apply(lambda x: x == 't')"
   ]
  },
  {
   "cell_type": "code",
   "execution_count": 52,
   "metadata": {},
   "outputs": [],
   "source": [
    "# Data manipulations for predicting price from features\n",
    "\n",
    "seattle_listings['medium_url_exists'] = seattle_listings.medium_url.apply(lambda x: not(pd.isna(x)))\n",
    "seattle_listings['picture_url_exists'] = seattle_listings.picture_url.apply(lambda x: not(pd.isna(x)))\n",
    "seattle_listings['host_since'] = pd.to_datetime( seattle_listings['host_since'] )\n",
    "\n",
    "seattle_listings['host_response_rate'] = pd.to_numeric( seattle_listings['host_response_rate'].apply(lambda x: respect_nulls(x, remove_pct)) )    \n",
    "seattle_listings['host_acceptance_rate'] = pd.to_numeric( seattle_listings['host_acceptance_rate'].apply(lambda x: respect_nulls(x, remove_pct)) )    \n",
    "seattle_listings['host_response_rate_100'] = seattle_listings.host_response_rate == 100 \n",
    "seattle_listings['host_acceptance_rate_100'] = seattle_listings.host_acceptance_rate == 100\n",
    "seattle_listings['host_acceptance_rate_null'] = seattle_listings.host_acceptance_rate.isna()\n",
    "\n",
    "seattle_listings['host_is_superhost'] = seattle_listings.host_is_superhost.apply(lambda x: x=='t')\n",
    "seattle_listings['host_identity_verified'] = seattle_listings.host_identity_verified.apply(lambda x: x=='t')\n",
    "seattle_listings['extra_people'] = pd.to_numeric( seattle_listings['extra_people'].apply(lambda x: respect_nulls(x, remove_dollar)) ) \n",
    "seattle_listings['extra_people_0'] = seattle_listings.extra_people == 0\n",
    "seattle_listings['extra_people_0+_50'] = seattle_listings.extra_people.apply(lambda x: x>0 and x<=50)\n",
    "seattle_listings['extra_people_50+'] = seattle_listings.extra_people.apply(lambda x: x>50)"
   ]
  },
  {
   "cell_type": "markdown",
   "metadata": {},
   "source": [
    "# Questions"
   ]
  },
  {
   "cell_type": "markdown",
   "metadata": {},
   "source": [
    "## 1. When are listings typically available?\n",
    "    \n",
    "1. Weekends only or all through the week?\n",
    "2. Is there a seasonality pattern?\n",
    "3. Are the neighbourhood variations?\n",
    "    \n",
    "We need to analyze the calendar dataset for this question.\n",
    "Lets see what it looks like"
   ]
  },
  {
   "cell_type": "code",
   "execution_count": 53,
   "metadata": {},
   "outputs": [
    {
     "data": {
      "text/html": [
       "<div>\n",
       "<style scoped>\n",
       "    .dataframe tbody tr th:only-of-type {\n",
       "        vertical-align: middle;\n",
       "    }\n",
       "\n",
       "    .dataframe tbody tr th {\n",
       "        vertical-align: top;\n",
       "    }\n",
       "\n",
       "    .dataframe thead th {\n",
       "        text-align: right;\n",
       "    }\n",
       "</style>\n",
       "<table border=\"1\" class=\"dataframe\">\n",
       "  <thead>\n",
       "    <tr style=\"text-align: right;\">\n",
       "      <th></th>\n",
       "      <th>listing_id</th>\n",
       "      <th>date</th>\n",
       "      <th>available</th>\n",
       "      <th>price</th>\n",
       "      <th>dayofweek</th>\n",
       "      <th>month</th>\n",
       "    </tr>\n",
       "  </thead>\n",
       "  <tbody>\n",
       "    <tr>\n",
       "      <th>0</th>\n",
       "      <td>241032</td>\n",
       "      <td>2016-01-04</td>\n",
       "      <td>True</td>\n",
       "      <td>$85.00</td>\n",
       "      <td>Monday</td>\n",
       "      <td>1</td>\n",
       "    </tr>\n",
       "    <tr>\n",
       "      <th>1</th>\n",
       "      <td>241032</td>\n",
       "      <td>2016-01-05</td>\n",
       "      <td>True</td>\n",
       "      <td>$85.00</td>\n",
       "      <td>Tuesday</td>\n",
       "      <td>1</td>\n",
       "    </tr>\n",
       "    <tr>\n",
       "      <th>2</th>\n",
       "      <td>241032</td>\n",
       "      <td>2016-01-06</td>\n",
       "      <td>False</td>\n",
       "      <td>NaN</td>\n",
       "      <td>Wednesday</td>\n",
       "      <td>1</td>\n",
       "    </tr>\n",
       "    <tr>\n",
       "      <th>3</th>\n",
       "      <td>241032</td>\n",
       "      <td>2016-01-07</td>\n",
       "      <td>False</td>\n",
       "      <td>NaN</td>\n",
       "      <td>Thursday</td>\n",
       "      <td>1</td>\n",
       "    </tr>\n",
       "    <tr>\n",
       "      <th>4</th>\n",
       "      <td>241032</td>\n",
       "      <td>2016-01-08</td>\n",
       "      <td>False</td>\n",
       "      <td>NaN</td>\n",
       "      <td>Friday</td>\n",
       "      <td>1</td>\n",
       "    </tr>\n",
       "  </tbody>\n",
       "</table>\n",
       "</div>"
      ],
      "text/plain": [
       "   listing_id       date  available   price  dayofweek  month\n",
       "0      241032 2016-01-04       True  $85.00     Monday      1\n",
       "1      241032 2016-01-05       True  $85.00    Tuesday      1\n",
       "2      241032 2016-01-06      False     NaN  Wednesday      1\n",
       "3      241032 2016-01-07      False     NaN   Thursday      1\n",
       "4      241032 2016-01-08      False     NaN     Friday      1"
      ]
     },
     "execution_count": 53,
     "metadata": {},
     "output_type": "execute_result"
    }
   ],
   "source": [
    "seattle_calendar.head()"
   ]
  },
  {
   "cell_type": "markdown",
   "metadata": {},
   "source": [
    "What date range does the data span?"
   ]
  },
  {
   "cell_type": "code",
   "execution_count": 54,
   "metadata": {},
   "outputs": [
    {
     "name": "stdout",
     "output_type": "stream",
     "text": [
      "Min date in calendar data: 2016-01-04 00:00:00\n",
      "Max date in calendar data: 2017-01-02 00:00:00\n"
     ]
    }
   ],
   "source": [
    "print( 'Min date in calendar data: ' + str(seattle_calendar.date.min()))\n",
    "print( 'Max date in calendar data: ' + str(seattle_calendar.date.max()))"
   ]
  },
  {
   "cell_type": "markdown",
   "metadata": {},
   "source": [
    "Now lets analyse variations across day of the week"
   ]
  },
  {
   "cell_type": "code",
   "execution_count": 55,
   "metadata": {},
   "outputs": [
    {
     "data": {
      "text/html": [
       "<div>\n",
       "<style scoped>\n",
       "    .dataframe tbody tr th:only-of-type {\n",
       "        vertical-align: middle;\n",
       "    }\n",
       "\n",
       "    .dataframe tbody tr th {\n",
       "        vertical-align: top;\n",
       "    }\n",
       "\n",
       "    .dataframe thead th {\n",
       "        text-align: right;\n",
       "    }\n",
       "</style>\n",
       "<table border=\"1\" class=\"dataframe\">\n",
       "  <thead>\n",
       "    <tr style=\"text-align: right;\">\n",
       "      <th></th>\n",
       "      <th>available</th>\n",
       "    </tr>\n",
       "    <tr>\n",
       "      <th>dayofweek</th>\n",
       "      <th></th>\n",
       "    </tr>\n",
       "  </thead>\n",
       "  <tbody>\n",
       "    <tr>\n",
       "      <th>Friday</th>\n",
       "      <td>0.668911</td>\n",
       "    </tr>\n",
       "    <tr>\n",
       "      <th>Monday</th>\n",
       "      <td>0.671101</td>\n",
       "    </tr>\n",
       "    <tr>\n",
       "      <th>Saturday</th>\n",
       "      <td>0.667758</td>\n",
       "    </tr>\n",
       "    <tr>\n",
       "      <th>Sunday</th>\n",
       "      <td>0.673001</td>\n",
       "    </tr>\n",
       "    <tr>\n",
       "      <th>Thursday</th>\n",
       "      <td>0.669743</td>\n",
       "    </tr>\n",
       "    <tr>\n",
       "      <th>Tuesday</th>\n",
       "      <td>0.671954</td>\n",
       "    </tr>\n",
       "    <tr>\n",
       "      <th>Wednesday</th>\n",
       "      <td>0.671793</td>\n",
       "    </tr>\n",
       "  </tbody>\n",
       "</table>\n",
       "</div>"
      ],
      "text/plain": [
       "           available\n",
       "dayofweek           \n",
       "Friday      0.668911\n",
       "Monday      0.671101\n",
       "Saturday    0.667758\n",
       "Sunday      0.673001\n",
       "Thursday    0.669743\n",
       "Tuesday     0.671954\n",
       "Wednesday   0.671793"
      ]
     },
     "execution_count": 55,
     "metadata": {},
     "output_type": "execute_result"
    }
   ],
   "source": [
    "seattle_calendar.groupby('dayofweek').mean()[['available']]"
   ]
  },
  {
   "cell_type": "markdown",
   "metadata": {},
   "source": [
    "There doesnt seem to be much variation amongst the days of the week\n",
    "\n",
    "Let's see if there is some at the neighbourhood level. But before we check day of week variations at the neighbourhood, lets check overall availability at the neighbourhood level"
   ]
  },
  {
   "cell_type": "code",
   "execution_count": 56,
   "metadata": {},
   "outputs": [
    {
     "data": {
      "text/plain": [
       "neighbourhood_group_cleansed\n",
       "Interbay               0.845330\n",
       "Magnolia               0.774669\n",
       "Lake City              0.768800\n",
       "Delridge               0.747182\n",
       "University District    0.744397\n",
       "Northgate              0.722774\n",
       "Beacon Hill            0.702809\n",
       "West Seattle           0.701127\n",
       "Ballard                0.692257\n",
       "Seward Park            0.680012\n",
       "Central Area           0.672354\n",
       "Other neighborhoods    0.671685\n",
       "Rainier Valley         0.670526\n",
       "Downtown               0.649910\n",
       "Capitol Hill           0.641048\n",
       "Queen Anne             0.620423\n",
       "Cascade                0.576174\n",
       "Name: available, dtype: float64"
      ]
     },
     "execution_count": 56,
     "metadata": {},
     "output_type": "execute_result"
    }
   ],
   "source": [
    "pd.merge(seattle_calendar, seattle_listings[['id','neighbourhood_group_cleansed']], left_on = 'listing_id', right_on = 'id').groupby('neighbourhood_group_cleansed').mean().sort_values('available', ascending = False)['available']"
   ]
  },
  {
   "cell_type": "markdown",
   "metadata": {},
   "source": [
    "We clearly see some variation here amongst areas\n",
    "\n",
    "3 of the five central seattle areas are on the low end of the availability spectrum. However interestingly, Interbay and Magnolia from central seattle have the highest availability too\n",
    "\n",
    "Now lets look at day of week variations across neighbourhoods"
   ]
  },
  {
   "cell_type": "code",
   "execution_count": 57,
   "metadata": {},
   "outputs": [
    {
     "data": {
      "text/html": [
       "<div>\n",
       "<style scoped>\n",
       "    .dataframe tbody tr th:only-of-type {\n",
       "        vertical-align: middle;\n",
       "    }\n",
       "\n",
       "    .dataframe tbody tr th {\n",
       "        vertical-align: top;\n",
       "    }\n",
       "\n",
       "    .dataframe thead th {\n",
       "        text-align: right;\n",
       "    }\n",
       "</style>\n",
       "<table border=\"1\" class=\"dataframe\">\n",
       "  <thead>\n",
       "    <tr style=\"text-align: right;\">\n",
       "      <th>dayofweek</th>\n",
       "      <th>Friday</th>\n",
       "      <th>Monday</th>\n",
       "      <th>Saturday</th>\n",
       "      <th>Sunday</th>\n",
       "      <th>Thursday</th>\n",
       "      <th>Tuesday</th>\n",
       "      <th>Wednesday</th>\n",
       "    </tr>\n",
       "    <tr>\n",
       "      <th>neighbourhood_group_cleansed</th>\n",
       "      <th></th>\n",
       "      <th></th>\n",
       "      <th></th>\n",
       "      <th></th>\n",
       "      <th></th>\n",
       "      <th></th>\n",
       "      <th></th>\n",
       "    </tr>\n",
       "  </thead>\n",
       "  <tbody>\n",
       "    <tr>\n",
       "      <th>Ballard</th>\n",
       "      <td>0.685953</td>\n",
       "      <td>0.694586</td>\n",
       "      <td>0.684365</td>\n",
       "      <td>0.693395</td>\n",
       "      <td>0.691806</td>\n",
       "      <td>0.697241</td>\n",
       "      <td>0.698411</td>\n",
       "    </tr>\n",
       "    <tr>\n",
       "      <th>Beacon Hill</th>\n",
       "      <td>0.699153</td>\n",
       "      <td>0.703230</td>\n",
       "      <td>0.697360</td>\n",
       "      <td>0.701923</td>\n",
       "      <td>0.704205</td>\n",
       "      <td>0.707790</td>\n",
       "      <td>0.705997</td>\n",
       "    </tr>\n",
       "    <tr>\n",
       "      <th>Capitol Hill</th>\n",
       "      <td>0.642552</td>\n",
       "      <td>0.640378</td>\n",
       "      <td>0.641602</td>\n",
       "      <td>0.643942</td>\n",
       "      <td>0.640144</td>\n",
       "      <td>0.639601</td>\n",
       "      <td>0.639126</td>\n",
       "    </tr>\n",
       "    <tr>\n",
       "      <th>Cascade</th>\n",
       "      <td>0.572602</td>\n",
       "      <td>0.574942</td>\n",
       "      <td>0.572169</td>\n",
       "      <td>0.576491</td>\n",
       "      <td>0.577139</td>\n",
       "      <td>0.579948</td>\n",
       "      <td>0.579948</td>\n",
       "    </tr>\n",
       "    <tr>\n",
       "      <th>Central Area</th>\n",
       "      <td>0.668022</td>\n",
       "      <td>0.675308</td>\n",
       "      <td>0.667136</td>\n",
       "      <td>0.675005</td>\n",
       "      <td>0.672035</td>\n",
       "      <td>0.675005</td>\n",
       "      <td>0.673911</td>\n",
       "    </tr>\n",
       "    <tr>\n",
       "      <th>Delridge</th>\n",
       "      <td>0.749757</td>\n",
       "      <td>0.742298</td>\n",
       "      <td>0.750000</td>\n",
       "      <td>0.747809</td>\n",
       "      <td>0.746592</td>\n",
       "      <td>0.746105</td>\n",
       "      <td>0.747809</td>\n",
       "    </tr>\n",
       "    <tr>\n",
       "      <th>Downtown</th>\n",
       "      <td>0.646226</td>\n",
       "      <td>0.652581</td>\n",
       "      <td>0.645646</td>\n",
       "      <td>0.655733</td>\n",
       "      <td>0.646154</td>\n",
       "      <td>0.652721</td>\n",
       "      <td>0.650254</td>\n",
       "    </tr>\n",
       "    <tr>\n",
       "      <th>Interbay</th>\n",
       "      <td>0.844406</td>\n",
       "      <td>0.843911</td>\n",
       "      <td>0.846154</td>\n",
       "      <td>0.847902</td>\n",
       "      <td>0.844406</td>\n",
       "      <td>0.844406</td>\n",
       "      <td>0.846154</td>\n",
       "    </tr>\n",
       "    <tr>\n",
       "      <th>Lake City</th>\n",
       "      <td>0.767509</td>\n",
       "      <td>0.765981</td>\n",
       "      <td>0.764925</td>\n",
       "      <td>0.768657</td>\n",
       "      <td>0.772962</td>\n",
       "      <td>0.767796</td>\n",
       "      <td>0.773823</td>\n",
       "    </tr>\n",
       "    <tr>\n",
       "      <th>Magnolia</th>\n",
       "      <td>0.773014</td>\n",
       "      <td>0.776059</td>\n",
       "      <td>0.773960</td>\n",
       "      <td>0.775536</td>\n",
       "      <td>0.773644</td>\n",
       "      <td>0.775221</td>\n",
       "      <td>0.775221</td>\n",
       "    </tr>\n",
       "    <tr>\n",
       "      <th>Northgate</th>\n",
       "      <td>0.720673</td>\n",
       "      <td>0.723349</td>\n",
       "      <td>0.720433</td>\n",
       "      <td>0.724519</td>\n",
       "      <td>0.722115</td>\n",
       "      <td>0.724760</td>\n",
       "      <td>0.723558</td>\n",
       "    </tr>\n",
       "    <tr>\n",
       "      <th>Other neighborhoods</th>\n",
       "      <td>0.671042</td>\n",
       "      <td>0.671095</td>\n",
       "      <td>0.668233</td>\n",
       "      <td>0.672132</td>\n",
       "      <td>0.672520</td>\n",
       "      <td>0.672714</td>\n",
       "      <td>0.674070</td>\n",
       "    </tr>\n",
       "    <tr>\n",
       "      <th>Queen Anne</th>\n",
       "      <td>0.619622</td>\n",
       "      <td>0.621298</td>\n",
       "      <td>0.619557</td>\n",
       "      <td>0.624837</td>\n",
       "      <td>0.617536</td>\n",
       "      <td>0.620469</td>\n",
       "      <td>0.619622</td>\n",
       "    </tr>\n",
       "    <tr>\n",
       "      <th>Rainier Valley</th>\n",
       "      <td>0.667271</td>\n",
       "      <td>0.669989</td>\n",
       "      <td>0.666062</td>\n",
       "      <td>0.673077</td>\n",
       "      <td>0.670295</td>\n",
       "      <td>0.673682</td>\n",
       "      <td>0.673319</td>\n",
       "    </tr>\n",
       "    <tr>\n",
       "      <th>Seward Park</th>\n",
       "      <td>0.679196</td>\n",
       "      <td>0.680103</td>\n",
       "      <td>0.676573</td>\n",
       "      <td>0.680070</td>\n",
       "      <td>0.680070</td>\n",
       "      <td>0.681381</td>\n",
       "      <td>0.682692</td>\n",
       "    </tr>\n",
       "    <tr>\n",
       "      <th>University District</th>\n",
       "      <td>0.744956</td>\n",
       "      <td>0.742809</td>\n",
       "      <td>0.745113</td>\n",
       "      <td>0.747636</td>\n",
       "      <td>0.742591</td>\n",
       "      <td>0.743380</td>\n",
       "      <td>0.744325</td>\n",
       "    </tr>\n",
       "    <tr>\n",
       "      <th>West Seattle</th>\n",
       "      <td>0.700171</td>\n",
       "      <td>0.702203</td>\n",
       "      <td>0.700265</td>\n",
       "      <td>0.703676</td>\n",
       "      <td>0.698655</td>\n",
       "      <td>0.701686</td>\n",
       "      <td>0.701213</td>\n",
       "    </tr>\n",
       "  </tbody>\n",
       "</table>\n",
       "</div>"
      ],
      "text/plain": [
       "dayofweek                       Friday    Monday  Saturday    Sunday  \\\n",
       "neighbourhood_group_cleansed                                           \n",
       "Ballard                       0.685953  0.694586  0.684365  0.693395   \n",
       "Beacon Hill                   0.699153  0.703230  0.697360  0.701923   \n",
       "Capitol Hill                  0.642552  0.640378  0.641602  0.643942   \n",
       "Cascade                       0.572602  0.574942  0.572169  0.576491   \n",
       "Central Area                  0.668022  0.675308  0.667136  0.675005   \n",
       "Delridge                      0.749757  0.742298  0.750000  0.747809   \n",
       "Downtown                      0.646226  0.652581  0.645646  0.655733   \n",
       "Interbay                      0.844406  0.843911  0.846154  0.847902   \n",
       "Lake City                     0.767509  0.765981  0.764925  0.768657   \n",
       "Magnolia                      0.773014  0.776059  0.773960  0.775536   \n",
       "Northgate                     0.720673  0.723349  0.720433  0.724519   \n",
       "Other neighborhoods           0.671042  0.671095  0.668233  0.672132   \n",
       "Queen Anne                    0.619622  0.621298  0.619557  0.624837   \n",
       "Rainier Valley                0.667271  0.669989  0.666062  0.673077   \n",
       "Seward Park                   0.679196  0.680103  0.676573  0.680070   \n",
       "University District           0.744956  0.742809  0.745113  0.747636   \n",
       "West Seattle                  0.700171  0.702203  0.700265  0.703676   \n",
       "\n",
       "dayofweek                     Thursday   Tuesday  Wednesday  \n",
       "neighbourhood_group_cleansed                                 \n",
       "Ballard                       0.691806  0.697241   0.698411  \n",
       "Beacon Hill                   0.704205  0.707790   0.705997  \n",
       "Capitol Hill                  0.640144  0.639601   0.639126  \n",
       "Cascade                       0.577139  0.579948   0.579948  \n",
       "Central Area                  0.672035  0.675005   0.673911  \n",
       "Delridge                      0.746592  0.746105   0.747809  \n",
       "Downtown                      0.646154  0.652721   0.650254  \n",
       "Interbay                      0.844406  0.844406   0.846154  \n",
       "Lake City                     0.772962  0.767796   0.773823  \n",
       "Magnolia                      0.773644  0.775221   0.775221  \n",
       "Northgate                     0.722115  0.724760   0.723558  \n",
       "Other neighborhoods           0.672520  0.672714   0.674070  \n",
       "Queen Anne                    0.617536  0.620469   0.619622  \n",
       "Rainier Valley                0.670295  0.673682   0.673319  \n",
       "Seward Park                   0.680070  0.681381   0.682692  \n",
       "University District           0.742591  0.743380   0.744325  \n",
       "West Seattle                  0.698655  0.701686   0.701213  "
      ]
     },
     "execution_count": 57,
     "metadata": {},
     "output_type": "execute_result"
    }
   ],
   "source": [
    "pd.merge(seattle_calendar, seattle_listings[['id','neighbourhood_group_cleansed']], left_on = 'listing_id', right_on = 'id').groupby(['neighbourhood_group_cleansed', 'dayofweek']).mean()['available'].unstack()"
   ]
  },
  {
   "cell_type": "code",
   "execution_count": 58,
   "metadata": {},
   "outputs": [
    {
     "data": {
      "text/plain": [
       "<matplotlib.legend.Legend at 0x7f4260f72e80>"
      ]
     },
     "execution_count": 58,
     "metadata": {},
     "output_type": "execute_result"
    },
    {
     "data": {
      "image/png": "[encoded data removed]",
      "text/plain": [
       "<Figure size 1080x360 with 1 Axes>"
      ]
     },
     "metadata": {},
     "output_type": "display_data"
    }
   ],
   "source": [
    "fig, ax = plt.subplots(1,1, figsize =(15,5))\n",
    "# ax.set_xticks(list(range(1,13)))\n",
    "pd.merge(seattle_calendar, seattle_listings[['id','neighbourhood_group_cleansed']], left_on = 'listing_id', right_on = 'id').groupby(['dayofweek', 'neighbourhood_group_cleansed']).mean()['available'].unstack().plot(ax =ax)\n",
    "ax.legend(bbox_to_anchor=(1,1), loc=\"upper left\")"
   ]
  },
  {
   "cell_type": "markdown",
   "metadata": {},
   "source": [
    "We can see that most neighbourhoods are pretty consistent in their behaviour and dont have any bias towards any particular days of the week."
   ]
  },
  {
   "cell_type": "code",
   "execution_count": 59,
   "metadata": {},
   "outputs": [
    {
     "data": {
      "text/plain": [
       "[<matplotlib.lines.Line2D at 0x7f4260f5ceb8>]"
      ]
     },
     "execution_count": 59,
     "metadata": {},
     "output_type": "execute_result"
    },
    {
     "data": {
      "image/png": "[encoded data removed]",
      "text/plain": [
       "<Figure size 864x360 with 1 Axes>"
      ]
     },
     "metadata": {},
     "output_type": "display_data"
    }
   ],
   "source": [
    "# Seasonal variations\n",
    "\n",
    "# First we check across the city and then at the neighbourhood level\n",
    "fig, ax = plt.subplots(1,1, figsize =(12,5))\n",
    "ax.set_xticks(list(range(1,13)))\n",
    "ax.set_xticklabels(calendar.month_abbr[1:13])\n",
    "# ax.set_xticks(['Jan' 'Feb', 'Mar', 'Apr', 'May', 'Jun', 'Jul', 'Aug', 'Sep', 'Oct', 'Nov', 'Dec'])\n",
    "\n",
    "plt.plot( seattle_calendar.groupby('month').mean().sort_values('month', ascending = True)['available'] )"
   ]
  },
  {
   "cell_type": "markdown",
   "metadata": {},
   "source": [
    "This is quite interesting. There is a sharp dip in January and sharp increase towards the end of the year peaking at December. The data spans from 4-Jan-2016 to 2-Jan-2017, hence the low availability in Jan cant be an artifact of the data collection process (i.e Data wasnt collected )\n",
    "\n",
    "May be towards the end of the year more people go on vacation and there is higher demand reflecting in higher availability\n",
    "\n",
    "Excluding January, July and August are the months with the lowest availability. This coincides with the driest months of the year in Seattle \\[[Ref](https://www.usclimatedata.com/climate/seattle/washington/united-states/uswa0395)\\]. Might be that people go outside of town typically during this time period and hence listings in Seattle arent available as much."
   ]
  },
  {
   "cell_type": "code",
   "execution_count": 60,
   "metadata": {},
   "outputs": [
    {
     "data": {
      "text/html": [
       "<div>\n",
       "<style scoped>\n",
       "    .dataframe tbody tr th:only-of-type {\n",
       "        vertical-align: middle;\n",
       "    }\n",
       "\n",
       "    .dataframe tbody tr th {\n",
       "        vertical-align: top;\n",
       "    }\n",
       "\n",
       "    .dataframe thead th {\n",
       "        text-align: right;\n",
       "    }\n",
       "</style>\n",
       "<table border=\"1\" class=\"dataframe\">\n",
       "  <thead>\n",
       "    <tr style=\"text-align: right;\">\n",
       "      <th>month</th>\n",
       "      <th>1</th>\n",
       "      <th>2</th>\n",
       "      <th>3</th>\n",
       "      <th>4</th>\n",
       "      <th>5</th>\n",
       "      <th>6</th>\n",
       "      <th>7</th>\n",
       "      <th>8</th>\n",
       "      <th>9</th>\n",
       "      <th>10</th>\n",
       "      <th>11</th>\n",
       "      <th>12</th>\n",
       "    </tr>\n",
       "    <tr>\n",
       "      <th>neighbourhood_group_cleansed</th>\n",
       "      <th></th>\n",
       "      <th></th>\n",
       "      <th></th>\n",
       "      <th></th>\n",
       "      <th></th>\n",
       "      <th></th>\n",
       "      <th></th>\n",
       "      <th></th>\n",
       "      <th></th>\n",
       "      <th></th>\n",
       "      <th></th>\n",
       "      <th></th>\n",
       "    </tr>\n",
       "  </thead>\n",
       "  <tbody>\n",
       "    <tr>\n",
       "      <th>Ballard</th>\n",
       "      <td>0.533043</td>\n",
       "      <td>0.613643</td>\n",
       "      <td>0.682889</td>\n",
       "      <td>0.668551</td>\n",
       "      <td>0.701964</td>\n",
       "      <td>0.731449</td>\n",
       "      <td>0.666199</td>\n",
       "      <td>0.700000</td>\n",
       "      <td>0.721449</td>\n",
       "      <td>0.741094</td>\n",
       "      <td>0.761159</td>\n",
       "      <td>0.779102</td>\n",
       "    </tr>\n",
       "    <tr>\n",
       "      <th>Beacon Hill</th>\n",
       "      <td>0.596045</td>\n",
       "      <td>0.692870</td>\n",
       "      <td>0.749043</td>\n",
       "      <td>0.720621</td>\n",
       "      <td>0.737015</td>\n",
       "      <td>0.723729</td>\n",
       "      <td>0.650082</td>\n",
       "      <td>0.696555</td>\n",
       "      <td>0.700847</td>\n",
       "      <td>0.705850</td>\n",
       "      <td>0.716102</td>\n",
       "      <td>0.742482</td>\n",
       "    </tr>\n",
       "    <tr>\n",
       "      <th>Capitol Hill</th>\n",
       "      <td>0.544680</td>\n",
       "      <td>0.629326</td>\n",
       "      <td>0.661888</td>\n",
       "      <td>0.613698</td>\n",
       "      <td>0.626842</td>\n",
       "      <td>0.641093</td>\n",
       "      <td>0.601639</td>\n",
       "      <td>0.614781</td>\n",
       "      <td>0.653322</td>\n",
       "      <td>0.680776</td>\n",
       "      <td>0.697942</td>\n",
       "      <td>0.724071</td>\n",
       "    </tr>\n",
       "    <tr>\n",
       "      <th>Cascade</th>\n",
       "      <td>0.457678</td>\n",
       "      <td>0.557148</td>\n",
       "      <td>0.635738</td>\n",
       "      <td>0.574532</td>\n",
       "      <td>0.592968</td>\n",
       "      <td>0.562172</td>\n",
       "      <td>0.492207</td>\n",
       "      <td>0.512142</td>\n",
       "      <td>0.584270</td>\n",
       "      <td>0.616890</td>\n",
       "      <td>0.644569</td>\n",
       "      <td>0.680681</td>\n",
       "    </tr>\n",
       "    <tr>\n",
       "      <th>Central Area</th>\n",
       "      <td>0.532249</td>\n",
       "      <td>0.655453</td>\n",
       "      <td>0.690532</td>\n",
       "      <td>0.641373</td>\n",
       "      <td>0.665093</td>\n",
       "      <td>0.682023</td>\n",
       "      <td>0.646210</td>\n",
       "      <td>0.662645</td>\n",
       "      <td>0.691689</td>\n",
       "      <td>0.707230</td>\n",
       "      <td>0.731165</td>\n",
       "      <td>0.758808</td>\n",
       "    </tr>\n",
       "    <tr>\n",
       "      <th>Delridge</th>\n",
       "      <td>0.611814</td>\n",
       "      <td>0.752510</td>\n",
       "      <td>0.770927</td>\n",
       "      <td>0.759072</td>\n",
       "      <td>0.764394</td>\n",
       "      <td>0.772152</td>\n",
       "      <td>0.714577</td>\n",
       "      <td>0.713761</td>\n",
       "      <td>0.754852</td>\n",
       "      <td>0.768885</td>\n",
       "      <td>0.783122</td>\n",
       "      <td>0.798693</td>\n",
       "    </tr>\n",
       "    <tr>\n",
       "      <th>Downtown</th>\n",
       "      <td>0.597925</td>\n",
       "      <td>0.707157</td>\n",
       "      <td>0.748448</td>\n",
       "      <td>0.692704</td>\n",
       "      <td>0.681862</td>\n",
       "      <td>0.644906</td>\n",
       "      <td>0.580158</td>\n",
       "      <td>0.593853</td>\n",
       "      <td>0.610063</td>\n",
       "      <td>0.631102</td>\n",
       "      <td>0.644277</td>\n",
       "      <td>0.668229</td>\n",
       "    </tr>\n",
       "    <tr>\n",
       "      <th>Interbay</th>\n",
       "      <td>0.833333</td>\n",
       "      <td>0.896552</td>\n",
       "      <td>0.909091</td>\n",
       "      <td>0.821212</td>\n",
       "      <td>0.812317</td>\n",
       "      <td>0.818182</td>\n",
       "      <td>0.809384</td>\n",
       "      <td>0.806452</td>\n",
       "      <td>0.818182</td>\n",
       "      <td>0.818182</td>\n",
       "      <td>0.893939</td>\n",
       "      <td>0.909091</td>\n",
       "    </tr>\n",
       "    <tr>\n",
       "      <th>Lake City</th>\n",
       "      <td>0.677114</td>\n",
       "      <td>0.728770</td>\n",
       "      <td>0.801637</td>\n",
       "      <td>0.787065</td>\n",
       "      <td>0.794896</td>\n",
       "      <td>0.788060</td>\n",
       "      <td>0.695234</td>\n",
       "      <td>0.719788</td>\n",
       "      <td>0.768657</td>\n",
       "      <td>0.819933</td>\n",
       "      <td>0.820896</td>\n",
       "      <td>0.820896</td>\n",
       "    </tr>\n",
       "    <tr>\n",
       "      <th>Magnolia</th>\n",
       "      <td>0.744262</td>\n",
       "      <td>0.812889</td>\n",
       "      <td>0.808567</td>\n",
       "      <td>0.746448</td>\n",
       "      <td>0.764675</td>\n",
       "      <td>0.743169</td>\n",
       "      <td>0.750397</td>\n",
       "      <td>0.745108</td>\n",
       "      <td>0.775956</td>\n",
       "      <td>0.796404</td>\n",
       "      <td>0.800546</td>\n",
       "      <td>0.808038</td>\n",
       "    </tr>\n",
       "    <tr>\n",
       "      <th>Northgate</th>\n",
       "      <td>0.545000</td>\n",
       "      <td>0.671121</td>\n",
       "      <td>0.778226</td>\n",
       "      <td>0.740417</td>\n",
       "      <td>0.780645</td>\n",
       "      <td>0.761250</td>\n",
       "      <td>0.706048</td>\n",
       "      <td>0.710484</td>\n",
       "      <td>0.727500</td>\n",
       "      <td>0.743145</td>\n",
       "      <td>0.751667</td>\n",
       "      <td>0.751613</td>\n",
       "    </tr>\n",
       "    <tr>\n",
       "      <th>Other neighborhoods</th>\n",
       "      <td>0.556759</td>\n",
       "      <td>0.635021</td>\n",
       "      <td>0.692573</td>\n",
       "      <td>0.663770</td>\n",
       "      <td>0.683107</td>\n",
       "      <td>0.677792</td>\n",
       "      <td>0.636183</td>\n",
       "      <td>0.658650</td>\n",
       "      <td>0.688875</td>\n",
       "      <td>0.705858</td>\n",
       "      <td>0.720151</td>\n",
       "      <td>0.737466</td>\n",
       "    </tr>\n",
       "    <tr>\n",
       "      <th>Queen Anne</th>\n",
       "      <td>0.508249</td>\n",
       "      <td>0.602221</td>\n",
       "      <td>0.632367</td>\n",
       "      <td>0.581243</td>\n",
       "      <td>0.584035</td>\n",
       "      <td>0.579661</td>\n",
       "      <td>0.558338</td>\n",
       "      <td>0.588518</td>\n",
       "      <td>0.637514</td>\n",
       "      <td>0.685730</td>\n",
       "      <td>0.729831</td>\n",
       "      <td>0.754073</td>\n",
       "    </tr>\n",
       "    <tr>\n",
       "      <th>Rainier Valley</th>\n",
       "      <td>0.570440</td>\n",
       "      <td>0.690740</td>\n",
       "      <td>0.761615</td>\n",
       "      <td>0.674633</td>\n",
       "      <td>0.662609</td>\n",
       "      <td>0.672327</td>\n",
       "      <td>0.621627</td>\n",
       "      <td>0.628931</td>\n",
       "      <td>0.652621</td>\n",
       "      <td>0.678840</td>\n",
       "      <td>0.698742</td>\n",
       "      <td>0.731791</td>\n",
       "    </tr>\n",
       "    <tr>\n",
       "      <th>Seward Park</th>\n",
       "      <td>0.643182</td>\n",
       "      <td>0.766458</td>\n",
       "      <td>0.834311</td>\n",
       "      <td>0.686364</td>\n",
       "      <td>0.689150</td>\n",
       "      <td>0.663636</td>\n",
       "      <td>0.600440</td>\n",
       "      <td>0.607038</td>\n",
       "      <td>0.618182</td>\n",
       "      <td>0.678886</td>\n",
       "      <td>0.681818</td>\n",
       "      <td>0.692815</td>\n",
       "    </tr>\n",
       "    <tr>\n",
       "      <th>University District</th>\n",
       "      <td>0.695082</td>\n",
       "      <td>0.768513</td>\n",
       "      <td>0.790323</td>\n",
       "      <td>0.720219</td>\n",
       "      <td>0.745108</td>\n",
       "      <td>0.760656</td>\n",
       "      <td>0.724749</td>\n",
       "      <td>0.738763</td>\n",
       "      <td>0.741257</td>\n",
       "      <td>0.744844</td>\n",
       "      <td>0.744809</td>\n",
       "      <td>0.758065</td>\n",
       "    </tr>\n",
       "    <tr>\n",
       "      <th>West Seattle</th>\n",
       "      <td>0.596552</td>\n",
       "      <td>0.698318</td>\n",
       "      <td>0.748768</td>\n",
       "      <td>0.702135</td>\n",
       "      <td>0.706181</td>\n",
       "      <td>0.724466</td>\n",
       "      <td>0.668679</td>\n",
       "      <td>0.674877</td>\n",
       "      <td>0.705090</td>\n",
       "      <td>0.714604</td>\n",
       "      <td>0.725780</td>\n",
       "      <td>0.746226</td>\n",
       "    </tr>\n",
       "  </tbody>\n",
       "</table>\n",
       "</div>"
      ],
      "text/plain": [
       "month                               1         2         3         4   \\\n",
       "neighbourhood_group_cleansed                                           \n",
       "Ballard                       0.533043  0.613643  0.682889  0.668551   \n",
       "Beacon Hill                   0.596045  0.692870  0.749043  0.720621   \n",
       "Capitol Hill                  0.544680  0.629326  0.661888  0.613698   \n",
       "Cascade                       0.457678  0.557148  0.635738  0.574532   \n",
       "Central Area                  0.532249  0.655453  0.690532  0.641373   \n",
       "Delridge                      0.611814  0.752510  0.770927  0.759072   \n",
       "Downtown                      0.597925  0.707157  0.748448  0.692704   \n",
       "Interbay                      0.833333  0.896552  0.909091  0.821212   \n",
       "Lake City                     0.677114  0.728770  0.801637  0.787065   \n",
       "Magnolia                      0.744262  0.812889  0.808567  0.746448   \n",
       "Northgate                     0.545000  0.671121  0.778226  0.740417   \n",
       "Other neighborhoods           0.556759  0.635021  0.692573  0.663770   \n",
       "Queen Anne                    0.508249  0.602221  0.632367  0.581243   \n",
       "Rainier Valley                0.570440  0.690740  0.761615  0.674633   \n",
       "Seward Park                   0.643182  0.766458  0.834311  0.686364   \n",
       "University District           0.695082  0.768513  0.790323  0.720219   \n",
       "West Seattle                  0.596552  0.698318  0.748768  0.702135   \n",
       "\n",
       "month                               5         6         7         8   \\\n",
       "neighbourhood_group_cleansed                                           \n",
       "Ballard                       0.701964  0.731449  0.666199  0.700000   \n",
       "Beacon Hill                   0.737015  0.723729  0.650082  0.696555   \n",
       "Capitol Hill                  0.626842  0.641093  0.601639  0.614781   \n",
       "Cascade                       0.592968  0.562172  0.492207  0.512142   \n",
       "Central Area                  0.665093  0.682023  0.646210  0.662645   \n",
       "Delridge                      0.764394  0.772152  0.714577  0.713761   \n",
       "Downtown                      0.681862  0.644906  0.580158  0.593853   \n",
       "Interbay                      0.812317  0.818182  0.809384  0.806452   \n",
       "Lake City                     0.794896  0.788060  0.695234  0.719788   \n",
       "Magnolia                      0.764675  0.743169  0.750397  0.745108   \n",
       "Northgate                     0.780645  0.761250  0.706048  0.710484   \n",
       "Other neighborhoods           0.683107  0.677792  0.636183  0.658650   \n",
       "Queen Anne                    0.584035  0.579661  0.558338  0.588518   \n",
       "Rainier Valley                0.662609  0.672327  0.621627  0.628931   \n",
       "Seward Park                   0.689150  0.663636  0.600440  0.607038   \n",
       "University District           0.745108  0.760656  0.724749  0.738763   \n",
       "West Seattle                  0.706181  0.724466  0.668679  0.674877   \n",
       "\n",
       "month                               9         10        11        12  \n",
       "neighbourhood_group_cleansed                                          \n",
       "Ballard                       0.721449  0.741094  0.761159  0.779102  \n",
       "Beacon Hill                   0.700847  0.705850  0.716102  0.742482  \n",
       "Capitol Hill                  0.653322  0.680776  0.697942  0.724071  \n",
       "Cascade                       0.584270  0.616890  0.644569  0.680681  \n",
       "Central Area                  0.691689  0.707230  0.731165  0.758808  \n",
       "Delridge                      0.754852  0.768885  0.783122  0.798693  \n",
       "Downtown                      0.610063  0.631102  0.644277  0.668229  \n",
       "Interbay                      0.818182  0.818182  0.893939  0.909091  \n",
       "Lake City                     0.768657  0.819933  0.820896  0.820896  \n",
       "Magnolia                      0.775956  0.796404  0.800546  0.808038  \n",
       "Northgate                     0.727500  0.743145  0.751667  0.751613  \n",
       "Other neighborhoods           0.688875  0.705858  0.720151  0.737466  \n",
       "Queen Anne                    0.637514  0.685730  0.729831  0.754073  \n",
       "Rainier Valley                0.652621  0.678840  0.698742  0.731791  \n",
       "Seward Park                   0.618182  0.678886  0.681818  0.692815  \n",
       "University District           0.741257  0.744844  0.744809  0.758065  \n",
       "West Seattle                  0.705090  0.714604  0.725780  0.746226  "
      ]
     },
     "execution_count": 60,
     "metadata": {},
     "output_type": "execute_result"
    }
   ],
   "source": [
    "pd.merge(seattle_calendar, seattle_listings[['id','neighbourhood_group_cleansed']], left_on = 'listing_id', right_on = 'id').groupby(['neighbourhood_group_cleansed', 'month']).mean()['available'].unstack()"
   ]
  },
  {
   "cell_type": "code",
   "execution_count": 61,
   "metadata": {},
   "outputs": [
    {
     "data": {
      "text/plain": [
       "<matplotlib.legend.Legend at 0x7f426060f630>"
      ]
     },
     "execution_count": 61,
     "metadata": {},
     "output_type": "execute_result"
    },
    {
     "data": {
      "image/png": "[encoded data removed]",
      "text/plain": [
       "<Figure size 1080x360 with 1 Axes>"
      ]
     },
     "metadata": {},
     "output_type": "display_data"
    }
   ],
   "source": [
    "fig, ax = plt.subplots(1,1, figsize =(15,5))\n",
    "ax.set_xticks(list(range(1,13)))\n",
    "ax.set_xticklabels(calendar.month_abbr[1:13])\n",
    "pd.merge(seattle_calendar, seattle_listings[['id','neighbourhood_group_cleansed']], left_on = 'listing_id', right_on = 'id').groupby(['month', 'neighbourhood_group_cleansed']).mean()['available'].unstack().plot(ax =ax)\n",
    "ax.legend(bbox_to_anchor=(1,1), loc=\"upper left\")"
   ]
  },
  {
   "cell_type": "markdown",
   "metadata": {},
   "source": [
    "## 2. What is the typical discount for daily vs weekly vs monthly renting?"
   ]
  },
  {
   "cell_type": "code",
   "execution_count": 62,
   "metadata": {},
   "outputs": [],
   "source": [
    "weekly_price_discounts = seattle_listings.dropna(subset=['weekly_price']).apply(lambda x: (7*x['price'] - x['weekly_price'])/(7*x['weekly_price']), axis = 1)\n",
    "monthly_price_discounts = seattle_listings.dropna(subset=['monthly_price']).apply(lambda x: (30*x['price'] - x['monthly_price'])/(7*x['monthly_price']), axis = 1)"
   ]
  },
  {
   "cell_type": "markdown",
   "metadata": {},
   "source": [
    "Before analysing this data, first lets see how many data points do we have for weekly and monthly renting"
   ]
  },
  {
   "cell_type": "code",
   "execution_count": 63,
   "metadata": {},
   "outputs": [
    {
     "name": "stdout",
     "output_type": "stream",
     "text": [
      "Num records with weekly prices: 2009 : 52.62%\n",
      "Num records with monthly prices: 1517 : 39.73%\n"
     ]
    }
   ],
   "source": [
    "print( 'Num records with weekly prices: ' + str(weekly_price_discounts.shape[0]) + ' : ' + str( round(weekly_price_discounts.shape[0]*100/seattle_listings.shape[0],2)) + '%')\n",
    "print( 'Num records with monthly prices: ' + str(monthly_price_discounts.shape[0]) + ' : ' + str( round(monthly_price_discounts.shape[0]*100/seattle_listings.shape[0],2)) + '%')"
   ]
  },
  {
   "cell_type": "code",
   "execution_count": 64,
   "metadata": {},
   "outputs": [
    {
     "data": {
      "text/plain": [
       "<matplotlib.legend.Legend at 0x7f4260330908>"
      ]
     },
     "execution_count": 64,
     "metadata": {},
     "output_type": "execute_result"
    },
    {
     "data": {
      "image/png": "[encoded data removed]",
      "text/plain": [
       "<Figure size 2160x504 with 2 Axes>"
      ]
     },
     "metadata": {},
     "output_type": "display_data"
    }
   ],
   "source": [
    "fig, ax = plt.subplots(1,2, figsize = (30,7))\n",
    "sns.distplot(weekly_price_discounts, ax =ax[0]);\n",
    "ax[0].axvline(weekly_price_discounts.mean(), label = 'mean_weekly_discount', color = 'red', linewidth = 1)\n",
    "ax[0].axvline(weekly_price_discounts.median(), label = 'median_weekly_discount', color = 'green', linewidth = 1)\n",
    "ax[0].legend(loc = 'best')\n",
    "sns.distplot(monthly_price_discounts, ax = ax[1]);\n",
    "ax[1].axvline(monthly_price_discounts.mean(), label = 'mean_monthly_discount', color = 'red', linewidth = 1)\n",
    "ax[1].axvline(monthly_price_discounts.median(), label = 'median_monthly_discount', color = 'green', linewidth = 1)\n",
    "ax[1].legend(loc = 'best')"
   ]
  },
  {
   "cell_type": "code",
   "execution_count": 65,
   "metadata": {},
   "outputs": [
    {
     "name": "stdout",
     "output_type": "stream",
     "text": [
      "Mean weekly discount = 1.653796908504432\n",
      "Median weekly discount = 1.5037593984962405\n",
      "Std. weekly discount = 3.119679405353111\n",
      "Min weekly discount = -8.40336134454\n",
      "Max weekly discount = 23.8961038961\n",
      "-------------\n",
      "Mean monthly discount = 6.394831981153424\n",
      "Median monthly discount = 5.714285714285714\n",
      "Std. monthly discount = 5.783436888530508\n",
      "Min monthly discount = -11.183237077\n",
      "Max monthly discount = 66.0714285714\n"
     ]
    }
   ],
   "source": [
    "print('Mean weekly discount = ' +str(weekly_price_discounts.mean()*100))\n",
    "print('Median weekly discount = ' +str(weekly_price_discounts.median()*100))\n",
    "print('Std. weekly discount = ' + str(weekly_price_discounts.std()*100))\n",
    "\n",
    "print('Min weekly discount = ' + str(weekly_price_discounts.min()*100))\n",
    "print('Max weekly discount = ' + str(weekly_price_discounts.max()*100))\n",
    "print('-------------')\n",
    "\n",
    "print('Mean monthly discount = ' +str(monthly_price_discounts.mean()*100))\n",
    "print('Median monthly discount = ' +str(monthly_price_discounts.median()*100))\n",
    "print('Std. monthly discount = ' + str(monthly_price_discounts.std()*100))\n",
    "\n",
    "print('Min monthly discount = ' + str(monthly_price_discounts.min()*100))\n",
    "print('Max monthly discount = ' + str(monthly_price_discounts.max()*100))"
   ]
  },
  {
   "cell_type": "markdown",
   "metadata": {},
   "source": [
    "This is pretty interesting. Over and above what the numbers say:\n",
    "\n",
    "1. Both weekly and monthly discounts can be negative!\n",
    "<br>\n",
    "    Meaning it could be cheaper to rent the house for each day instead of booking for a week or month. Ofcourse this is assuming the listing is actually continuously available for a month. Thats likely the reason for the negative values. The owners may need to put in extra work to keep the listing running for a week or month.\n",
    "2. There is a lot more variance in the weekly discount than the monthly discount relative to their quantities"
   ]
  },
  {
   "cell_type": "markdown",
   "metadata": {},
   "source": [
    "## 3. Variations across neighbourhoods in Seattle"
   ]
  },
  {
   "cell_type": "markdown",
   "metadata": {},
   "source": [
    "#### 3.a Where are most listings concentrated?"
   ]
  },
  {
   "cell_type": "code",
   "execution_count": 66,
   "metadata": {},
   "outputs": [
    {
     "data": {
      "text/html": [
       "<div>\n",
       "<style scoped>\n",
       "    .dataframe tbody tr th:only-of-type {\n",
       "        vertical-align: middle;\n",
       "    }\n",
       "\n",
       "    .dataframe tbody tr th {\n",
       "        vertical-align: top;\n",
       "    }\n",
       "\n",
       "    .dataframe thead th {\n",
       "        text-align: right;\n",
       "    }\n",
       "</style>\n",
       "<table border=\"1\" class=\"dataframe\">\n",
       "  <thead>\n",
       "    <tr style=\"text-align: right;\">\n",
       "      <th></th>\n",
       "      <th>id</th>\n",
       "    </tr>\n",
       "    <tr>\n",
       "      <th>neighbourhood_group_cleansed</th>\n",
       "      <th></th>\n",
       "    </tr>\n",
       "  </thead>\n",
       "  <tbody>\n",
       "    <tr>\n",
       "      <th>Other neighborhoods</th>\n",
       "      <td>794</td>\n",
       "    </tr>\n",
       "    <tr>\n",
       "      <th>Capitol Hill</th>\n",
       "      <td>567</td>\n",
       "    </tr>\n",
       "    <tr>\n",
       "      <th>Downtown</th>\n",
       "      <td>530</td>\n",
       "    </tr>\n",
       "    <tr>\n",
       "      <th>Central Area</th>\n",
       "      <td>369</td>\n",
       "    </tr>\n",
       "    <tr>\n",
       "      <th>Queen Anne</th>\n",
       "      <td>295</td>\n",
       "    </tr>\n",
       "    <tr>\n",
       "      <th>Ballard</th>\n",
       "      <td>230</td>\n",
       "    </tr>\n",
       "    <tr>\n",
       "      <th>West Seattle</th>\n",
       "      <td>203</td>\n",
       "    </tr>\n",
       "    <tr>\n",
       "      <th>Rainier Valley</th>\n",
       "      <td>159</td>\n",
       "    </tr>\n",
       "    <tr>\n",
       "      <th>University District</th>\n",
       "      <td>122</td>\n",
       "    </tr>\n",
       "    <tr>\n",
       "      <th>Beacon Hill</th>\n",
       "      <td>118</td>\n",
       "    </tr>\n",
       "    <tr>\n",
       "      <th>Cascade</th>\n",
       "      <td>89</td>\n",
       "    </tr>\n",
       "    <tr>\n",
       "      <th>Northgate</th>\n",
       "      <td>80</td>\n",
       "    </tr>\n",
       "    <tr>\n",
       "      <th>Delridge</th>\n",
       "      <td>79</td>\n",
       "    </tr>\n",
       "    <tr>\n",
       "      <th>Lake City</th>\n",
       "      <td>67</td>\n",
       "    </tr>\n",
       "    <tr>\n",
       "      <th>Magnolia</th>\n",
       "      <td>61</td>\n",
       "    </tr>\n",
       "    <tr>\n",
       "      <th>Seward Park</th>\n",
       "      <td>44</td>\n",
       "    </tr>\n",
       "    <tr>\n",
       "      <th>Interbay</th>\n",
       "      <td>11</td>\n",
       "    </tr>\n",
       "  </tbody>\n",
       "</table>\n",
       "</div>"
      ],
      "text/plain": [
       "                               id\n",
       "neighbourhood_group_cleansed     \n",
       "Other neighborhoods           794\n",
       "Capitol Hill                  567\n",
       "Downtown                      530\n",
       "Central Area                  369\n",
       "Queen Anne                    295\n",
       "Ballard                       230\n",
       "West Seattle                  203\n",
       "Rainier Valley                159\n",
       "University District           122\n",
       "Beacon Hill                   118\n",
       "Cascade                        89\n",
       "Northgate                      80\n",
       "Delridge                       79\n",
       "Lake City                      67\n",
       "Magnolia                       61\n",
       "Seward Park                    44\n",
       "Interbay                       11"
      ]
     },
     "execution_count": 66,
     "metadata": {},
     "output_type": "execute_result"
    }
   ],
   "source": [
    "seattle_listings.groupby('neighbourhood_group_cleansed').count().sort_values('id', ascending = False)[['id']]"
   ]
  },
  {
   "cell_type": "code",
   "execution_count": 67,
   "metadata": {},
   "outputs": [
    {
     "data": {
      "text/plain": [
       "87"
      ]
     },
     "execution_count": 67,
     "metadata": {},
     "output_type": "execute_result"
    }
   ],
   "source": [
    "len( seattle_listings.neighbourhood_cleansed.unique() )"
   ]
  },
  {
   "cell_type": "markdown",
   "metadata": {},
   "source": [
    "To get a sense of where these areas are, lets refer to the Seattle map from the [Office of the city clerk, Seattle](http://clerk.ci.seattle.wa.us/~public/nmaps/fullcity.htm)\n",
    "\n",
    "Excluding 'Other neighbourhoods', 4 of the top 5 neighbourhoods are in central Seattle. This seems natural in way. Closer to the city center, one can expect higher population density and a greater concentration of commerical and business spaces. Both could mean there is greater demand for listings in that area.\n",
    "\n",
    "![Seattle map](http://clerk.ci.seattle.wa.us/~public/nmaps/fullcity600.jpg)"
   ]
  },
  {
   "cell_type": "markdown",
   "metadata": {},
   "source": [
    "#### 3.b Is there a skew in distibution of prices across neighbourhoods?"
   ]
  },
  {
   "cell_type": "code",
   "execution_count": 68,
   "metadata": {},
   "outputs": [
    {
     "data": {
      "text/html": [
       "<div>\n",
       "<style scoped>\n",
       "    .dataframe tbody tr th:only-of-type {\n",
       "        vertical-align: middle;\n",
       "    }\n",
       "\n",
       "    .dataframe tbody tr th {\n",
       "        vertical-align: top;\n",
       "    }\n",
       "\n",
       "    .dataframe thead th {\n",
       "        text-align: right;\n",
       "    }\n",
       "</style>\n",
       "<table border=\"1\" class=\"dataframe\">\n",
       "  <thead>\n",
       "    <tr style=\"text-align: right;\">\n",
       "      <th></th>\n",
       "      <th>price</th>\n",
       "    </tr>\n",
       "    <tr>\n",
       "      <th>neighbourhood_group_cleansed</th>\n",
       "      <th></th>\n",
       "    </tr>\n",
       "  </thead>\n",
       "  <tbody>\n",
       "    <tr>\n",
       "      <th>Magnolia</th>\n",
       "      <td>177.672131</td>\n",
       "    </tr>\n",
       "    <tr>\n",
       "      <th>Queen Anne</th>\n",
       "      <td>157.223729</td>\n",
       "    </tr>\n",
       "    <tr>\n",
       "      <th>Downtown</th>\n",
       "      <td>154.405660</td>\n",
       "    </tr>\n",
       "    <tr>\n",
       "      <th>West Seattle</th>\n",
       "      <td>141.359606</td>\n",
       "    </tr>\n",
       "    <tr>\n",
       "      <th>Cascade</th>\n",
       "      <td>140.101124</td>\n",
       "    </tr>\n",
       "    <tr>\n",
       "      <th>Capitol Hill</th>\n",
       "      <td>130.592593</td>\n",
       "    </tr>\n",
       "    <tr>\n",
       "      <th>Central Area</th>\n",
       "      <td>128.338753</td>\n",
       "    </tr>\n",
       "    <tr>\n",
       "      <th>Ballard</th>\n",
       "      <td>124.682609</td>\n",
       "    </tr>\n",
       "    <tr>\n",
       "      <th>Other neighborhoods</th>\n",
       "      <td>119.968514</td>\n",
       "    </tr>\n",
       "    <tr>\n",
       "      <th>Interbay</th>\n",
       "      <td>109.727273</td>\n",
       "    </tr>\n",
       "    <tr>\n",
       "      <th>Seward Park</th>\n",
       "      <td>108.477273</td>\n",
       "    </tr>\n",
       "    <tr>\n",
       "      <th>Beacon Hill</th>\n",
       "      <td>94.669492</td>\n",
       "    </tr>\n",
       "    <tr>\n",
       "      <th>University District</th>\n",
       "      <td>93.639344</td>\n",
       "    </tr>\n",
       "    <tr>\n",
       "      <th>Lake City</th>\n",
       "      <td>92.671642</td>\n",
       "    </tr>\n",
       "    <tr>\n",
       "      <th>Rainier Valley</th>\n",
       "      <td>91.899371</td>\n",
       "    </tr>\n",
       "    <tr>\n",
       "      <th>Northgate</th>\n",
       "      <td>88.550000</td>\n",
       "    </tr>\n",
       "    <tr>\n",
       "      <th>Delridge</th>\n",
       "      <td>83.278481</td>\n",
       "    </tr>\n",
       "  </tbody>\n",
       "</table>\n",
       "</div>"
      ],
      "text/plain": [
       "                                   price\n",
       "neighbourhood_group_cleansed            \n",
       "Magnolia                      177.672131\n",
       "Queen Anne                    157.223729\n",
       "Downtown                      154.405660\n",
       "West Seattle                  141.359606\n",
       "Cascade                       140.101124\n",
       "Capitol Hill                  130.592593\n",
       "Central Area                  128.338753\n",
       "Ballard                       124.682609\n",
       "Other neighborhoods           119.968514\n",
       "Interbay                      109.727273\n",
       "Seward Park                   108.477273\n",
       "Beacon Hill                    94.669492\n",
       "University District            93.639344\n",
       "Lake City                      92.671642\n",
       "Rainier Valley                 91.899371\n",
       "Northgate                      88.550000\n",
       "Delridge                       83.278481"
      ]
     },
     "execution_count": 68,
     "metadata": {},
     "output_type": "execute_result"
    }
   ],
   "source": [
    "seattle_listings.groupby('neighbourhood_group_cleansed').mean().sort_values('price', ascending = False)[['price']]"
   ]
  },
  {
   "cell_type": "markdown",
   "metadata": {},
   "source": [
    "We can still see that places in central seattle are priced a little higher, which is quite expected again. Typically real estate prices and cost of living is higher closer to the city center and this is reflected in the data.\n",
    "\n",
    "However, the analysis isnt quite fair on one front. Its unfair to compare the price of a 3 bed listing with a single bed listing. While its hard to create a perfect metric that accounts for all such factors, lets start with the price/bed\n",
    "\n",
    "Lets compute the price/bed and see how its distribution is. Is it similar to what we saw above?"
   ]
  },
  {
   "cell_type": "code",
   "execution_count": 69,
   "metadata": {},
   "outputs": [],
   "source": [
    "seattle_listings['price_per_bed'] = seattle_listings.apply(lambda x: x['price']/x['beds'], axis = 1)"
   ]
  },
  {
   "cell_type": "code",
   "execution_count": 70,
   "metadata": {},
   "outputs": [],
   "source": [
    "seattle_listings['price_per_bedroom'] = seattle_listings.apply(lambda x: price_per_unit(x['price'],x['bedrooms']), axis = 1)"
   ]
  },
  {
   "cell_type": "code",
   "execution_count": 71,
   "metadata": {},
   "outputs": [
    {
     "data": {
      "text/html": [
       "<div>\n",
       "<style scoped>\n",
       "    .dataframe tbody tr th:only-of-type {\n",
       "        vertical-align: middle;\n",
       "    }\n",
       "\n",
       "    .dataframe tbody tr th {\n",
       "        vertical-align: top;\n",
       "    }\n",
       "\n",
       "    .dataframe thead th {\n",
       "        text-align: right;\n",
       "    }\n",
       "</style>\n",
       "<table border=\"1\" class=\"dataframe\">\n",
       "  <thead>\n",
       "    <tr style=\"text-align: right;\">\n",
       "      <th></th>\n",
       "      <th>price_per_bed</th>\n",
       "    </tr>\n",
       "    <tr>\n",
       "      <th>neighbourhood_group_cleansed</th>\n",
       "      <th></th>\n",
       "    </tr>\n",
       "  </thead>\n",
       "  <tbody>\n",
       "    <tr>\n",
       "      <th>Downtown</th>\n",
       "      <td>103.301539</td>\n",
       "    </tr>\n",
       "    <tr>\n",
       "      <th>Interbay</th>\n",
       "      <td>102.909091</td>\n",
       "    </tr>\n",
       "    <tr>\n",
       "      <th>Cascade</th>\n",
       "      <td>102.086142</td>\n",
       "    </tr>\n",
       "    <tr>\n",
       "      <th>Queen Anne</th>\n",
       "      <td>96.848878</td>\n",
       "    </tr>\n",
       "    <tr>\n",
       "      <th>Capitol Hill</th>\n",
       "      <td>91.282321</td>\n",
       "    </tr>\n",
       "    <tr>\n",
       "      <th>Magnolia</th>\n",
       "      <td>89.441335</td>\n",
       "    </tr>\n",
       "    <tr>\n",
       "      <th>West Seattle</th>\n",
       "      <td>78.830167</td>\n",
       "    </tr>\n",
       "    <tr>\n",
       "      <th>Central Area</th>\n",
       "      <td>77.767397</td>\n",
       "    </tr>\n",
       "    <tr>\n",
       "      <th>Ballard</th>\n",
       "      <td>73.265704</td>\n",
       "    </tr>\n",
       "    <tr>\n",
       "      <th>Other neighborhoods</th>\n",
       "      <td>72.050772</td>\n",
       "    </tr>\n",
       "    <tr>\n",
       "      <th>Lake City</th>\n",
       "      <td>65.314677</td>\n",
       "    </tr>\n",
       "    <tr>\n",
       "      <th>Beacon Hill</th>\n",
       "      <td>64.068321</td>\n",
       "    </tr>\n",
       "    <tr>\n",
       "      <th>Rainier Valley</th>\n",
       "      <td>62.294864</td>\n",
       "    </tr>\n",
       "    <tr>\n",
       "      <th>Northgate</th>\n",
       "      <td>61.963542</td>\n",
       "    </tr>\n",
       "    <tr>\n",
       "      <th>University District</th>\n",
       "      <td>61.928571</td>\n",
       "    </tr>\n",
       "    <tr>\n",
       "      <th>Delridge</th>\n",
       "      <td>61.295359</td>\n",
       "    </tr>\n",
       "    <tr>\n",
       "      <th>Seward Park</th>\n",
       "      <td>59.542803</td>\n",
       "    </tr>\n",
       "  </tbody>\n",
       "</table>\n",
       "</div>"
      ],
      "text/plain": [
       "                              price_per_bed\n",
       "neighbourhood_group_cleansed               \n",
       "Downtown                         103.301539\n",
       "Interbay                         102.909091\n",
       "Cascade                          102.086142\n",
       "Queen Anne                        96.848878\n",
       "Capitol Hill                      91.282321\n",
       "Magnolia                          89.441335\n",
       "West Seattle                      78.830167\n",
       "Central Area                      77.767397\n",
       "Ballard                           73.265704\n",
       "Other neighborhoods               72.050772\n",
       "Lake City                         65.314677\n",
       "Beacon Hill                       64.068321\n",
       "Rainier Valley                    62.294864\n",
       "Northgate                         61.963542\n",
       "University District               61.928571\n",
       "Delridge                          61.295359\n",
       "Seward Park                       59.542803"
      ]
     },
     "execution_count": 71,
     "metadata": {},
     "output_type": "execute_result"
    }
   ],
   "source": [
    "seattle_listings.groupby('neighbourhood_group_cleansed').mean().sort_values('price_per_bed', ascending = False)[['price_per_bed']]"
   ]
  },
  {
   "cell_type": "markdown",
   "metadata": {},
   "source": [
    "3 out of the top 5 overlap when comparing neighbourhoods by price and price/bed. Also central seattle still shows up on top here.\n",
    "\n",
    "Hence one could say prices and prices/bed follow the same patterns across neighbourhoods.\n",
    "\n",
    "If one extended the above analysis to price/bedroom, one would see similar results."
   ]
  },
  {
   "cell_type": "markdown",
   "metadata": {},
   "source": [
    "#### 3.c Are listings in some neighbourhoods more available than the other?"
   ]
  },
  {
   "cell_type": "code",
   "execution_count": 72,
   "metadata": {},
   "outputs": [
    {
     "data": {
      "text/html": [
       "<div>\n",
       "<style scoped>\n",
       "    .dataframe tbody tr th:only-of-type {\n",
       "        vertical-align: middle;\n",
       "    }\n",
       "\n",
       "    .dataframe tbody tr th {\n",
       "        vertical-align: top;\n",
       "    }\n",
       "\n",
       "    .dataframe thead th {\n",
       "        text-align: right;\n",
       "    }\n",
       "</style>\n",
       "<table border=\"1\" class=\"dataframe\">\n",
       "  <thead>\n",
       "    <tr style=\"text-align: right;\">\n",
       "      <th></th>\n",
       "      <th>availability_365</th>\n",
       "    </tr>\n",
       "    <tr>\n",
       "      <th>neighbourhood_group_cleansed</th>\n",
       "      <th></th>\n",
       "    </tr>\n",
       "  </thead>\n",
       "  <tbody>\n",
       "    <tr>\n",
       "      <th>Interbay</th>\n",
       "      <td>308.545455</td>\n",
       "    </tr>\n",
       "    <tr>\n",
       "      <th>Magnolia</th>\n",
       "      <td>282.754098</td>\n",
       "    </tr>\n",
       "    <tr>\n",
       "      <th>Lake City</th>\n",
       "      <td>280.611940</td>\n",
       "    </tr>\n",
       "    <tr>\n",
       "      <th>Delridge</th>\n",
       "      <td>272.721519</td>\n",
       "    </tr>\n",
       "    <tr>\n",
       "      <th>University District</th>\n",
       "      <td>271.704918</td>\n",
       "    </tr>\n",
       "    <tr>\n",
       "      <th>Northgate</th>\n",
       "      <td>263.812500</td>\n",
       "    </tr>\n",
       "    <tr>\n",
       "      <th>Beacon Hill</th>\n",
       "      <td>256.525424</td>\n",
       "    </tr>\n",
       "    <tr>\n",
       "      <th>West Seattle</th>\n",
       "      <td>255.911330</td>\n",
       "    </tr>\n",
       "    <tr>\n",
       "      <th>Ballard</th>\n",
       "      <td>252.673913</td>\n",
       "    </tr>\n",
       "    <tr>\n",
       "      <th>Seward Park</th>\n",
       "      <td>248.204545</td>\n",
       "    </tr>\n",
       "    <tr>\n",
       "      <th>Central Area</th>\n",
       "      <td>245.409214</td>\n",
       "    </tr>\n",
       "    <tr>\n",
       "      <th>Other neighborhoods</th>\n",
       "      <td>245.164987</td>\n",
       "    </tr>\n",
       "    <tr>\n",
       "      <th>Rainier Valley</th>\n",
       "      <td>244.742138</td>\n",
       "    </tr>\n",
       "    <tr>\n",
       "      <th>Downtown</th>\n",
       "      <td>237.216981</td>\n",
       "    </tr>\n",
       "    <tr>\n",
       "      <th>Capitol Hill</th>\n",
       "      <td>233.982363</td>\n",
       "    </tr>\n",
       "    <tr>\n",
       "      <th>Queen Anne</th>\n",
       "      <td>226.454237</td>\n",
       "    </tr>\n",
       "    <tr>\n",
       "      <th>Cascade</th>\n",
       "      <td>210.303371</td>\n",
       "    </tr>\n",
       "  </tbody>\n",
       "</table>\n",
       "</div>"
      ],
      "text/plain": [
       "                              availability_365\n",
       "neighbourhood_group_cleansed                  \n",
       "Interbay                            308.545455\n",
       "Magnolia                            282.754098\n",
       "Lake City                           280.611940\n",
       "Delridge                            272.721519\n",
       "University District                 271.704918\n",
       "Northgate                           263.812500\n",
       "Beacon Hill                         256.525424\n",
       "West Seattle                        255.911330\n",
       "Ballard                             252.673913\n",
       "Seward Park                         248.204545\n",
       "Central Area                        245.409214\n",
       "Other neighborhoods                 245.164987\n",
       "Rainier Valley                      244.742138\n",
       "Downtown                            237.216981\n",
       "Capitol Hill                        233.982363\n",
       "Queen Anne                          226.454237\n",
       "Cascade                             210.303371"
      ]
     },
     "execution_count": 72,
     "metadata": {},
     "output_type": "execute_result"
    }
   ],
   "source": [
    "seattle_listings.groupby('neighbourhood_group_cleansed').mean().sort_values('availability_365', ascending = False)[['availability_365']]"
   ]
  },
  {
   "cell_type": "markdown",
   "metadata": {},
   "source": [
    "4 of the bottom 5 availability areas are in central seattle.\n",
    "There are 3 distinct buckets one could form here\n",
    "\n",
    "High availability: >260 days available per year\n",
    "Medium availability: 240-260 days available per year\n",
    "Low availability: <240 days available per year\n",
    "\n",
    "The high availability bucket consists of:\n",
    "\n",
    "1. Interbay\n",
    "2. Magnolia\n",
    "3. Lake city\n",
    "4. Delridge\n",
    "5. University district\n",
    "\n",
    "The medium availability bucket consists of:\n",
    "1. Northgate\n",
    "2. Beacon hill\n",
    "3. West Seattle\n",
    "4. Ballard\n",
    "5. Seward park\n",
    "6. Central area\n",
    "7. Rainier valley\n",
    "\n",
    "The low availability bucket consists of:\n",
    "1. Downtown\n",
    "2. Capitol hill\n",
    "3. Queen Anne\n",
    "4. Cascade\n",
    "\n",
    "All of the low availability bucket is from Central Seattle\n",
    "\n",
    "Note: Excluding 'other neighbourhoods' from the above lists"
   ]
  }
 ],
 "metadata": {
  "kernelspec": {
   "display_name": "Python [default]",
   "language": "python",
   "name": "python3"
  },
  "language_info": {
   "codemirror_mode": {
    "name": "ipython",
    "version": 3
   },
   "file_extension": ".py",
   "mimetype": "text/x-python",
   "name": "python",
   "nbconvert_exporter": "python",
   "pygments_lexer": "ipython3",
   "version": "3.6.8"
  }
 },
 "nbformat": 4,
 "nbformat_minor": 2
}
